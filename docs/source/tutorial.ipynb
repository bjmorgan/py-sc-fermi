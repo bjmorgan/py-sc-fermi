{
 "cells": [
  {
   "cell_type": "markdown",
   "metadata": {},
   "source": [
    "## 1. Building a defect system\n",
    "\n",
    "### the `DefectChargeState` object\n",
    "\n",
    "Let's take the example of NaCl, a rocksalt structured material, and assume the only\n",
    "defects that can form are vacancies, we have two \"defect species\", $V_\\mathrm{Na}$\n",
    "and $V_\\mathrm{Cl}$, each vacancy is assumed to have two possible charge states, $V^{0}_\\mathrm{Na}$ and $V^{-1}_\\mathrm{Na}$ and $V^{0}_\\mathrm{Cl}$ and $V^{+1}_\\mathrm{Cl}$."
   ]
  },
  {
   "cell_type": "code",
   "execution_count": 63,
   "metadata": {},
   "outputs": [],
   "source": [
    "from py_sc_fermi.defect_charge_state import DefectChargeState\n",
    "\n",
    "v_Na_0 = DefectChargeState(charge= 0, # the charge of the defect\n",
    "                           degeneracy= 1, # see \"note on spin degeneracy\" at the bottom of this notebook\n",
    "                           energy = 1.0 # defect formation energy in eV, we will just use a dummy value here\n",
    ")\n",
    "\n",
    "v_Na_minus_1 = DefectChargeState(charge= -1, degeneracy= 1, energy = 2.0)\n",
    "\n",
    "# repeat for the Cl vacancy\n",
    "\n",
    "v_Cl_0 = DefectChargeState(charge= 0, degeneracy= 1, energy = 1.0)\n",
    "v_Cl_1 = DefectChargeState(charge= 1, degeneracy= 1, energy = -1.0)\n"
   ]
  },
  {
   "cell_type": "markdown",
   "metadata": {},
   "source": [
    "### the `DefectSpecies` object\n",
    "\n",
    "The `DefectSpeices` object collects `DefectChargeStates` together under a single\n",
    "\"kind\" of defect, this is useful for assinging consistent site degeneracies (and specifiying different constraints, which we will come to later). These are defined like so:"
   ]
  },
  {
   "cell_type": "code",
   "execution_count": 64,
   "metadata": {},
   "outputs": [],
   "source": [
    "from py_sc_fermi.defect_species import DefectSpecies\n",
    "\n",
    "# defining the Na vacancy\n",
    "\n",
    "v_Na = DefectSpecies(name = \"v_Na\", # the name can be any string, it only needs to be unique in the set of all species\n",
    "                    nsites = 1, # the number of sites on which the defect can form in the unit cell (see usage notes)\n",
    "                    charge_states = {0 : v_Na_0, -1: v_Na_minus_1}) # dictionary of charge states, with the key being the charge and the value being the corresponding DefectChargeState object\n",
    "\n",
    "# defining the Cl vacancy\n",
    "\n",
    "v_Cl = DefectSpecies(name = \"v_Cl\", nsites = 1, charge_states = {0 : v_Cl_0, 1: v_Cl_1})"
   ]
  },
  {
   "cell_type": "markdown",
   "metadata": {},
   "source": [
    "### the `DOS` obeject\n",
    "\n",
    "The `DOS` object contains the density of states information calculated for the \n",
    "unit cell (see usage notes in the documentation for a strict definintion of the unit cell)\n",
    "we take data calculated from the [Materials Project](https://materialsproject.org/) for NaCl\n",
    "([mp-22862](https://materialsproject.org/materials/mp-22862)) which we have dumped into a csv file."
   ]
  },
  {
   "cell_type": "code",
   "execution_count": 65,
   "metadata": {},
   "outputs": [],
   "source": [
    "import numpy as np\n",
    "import matplotlib.pyplot as plt\n",
    "from py_sc_fermi.dos import DOS\n",
    "\n",
    "energy = np.loadtxt('dos.csv', delimiter=',')[0] # the energy range of the DOS information\n",
    "dos = np.loadtxt('dos.csv', delimiter=',')[1] # the (total) DOS\n",
    "\n",
    "dos = DOS(dos = dos,      # \n",
    "          edos = energy,  # \n",
    "          bandgap = 5,    # the bandgap in eV (taken from the Materials Project, mp-22862)\n",
    "          nelect = 20,    # TODO: check this number\n",
    "          spin_polarised=False) # This dos calculation is not spin polarised"
   ]
  },
  {
   "cell_type": "markdown",
   "metadata": {},
   "source": [
    "### the `DefectSystem` object\n",
    "\n",
    "The `DefectSystem` object collects our `DefectSpecies` together, and allows for us to search for the self-consistent Fermi energy. It is defined as below:"
   ]
  },
  {
   "cell_type": "code",
   "execution_count": 66,
   "metadata": {},
   "outputs": [],
   "source": [
    "from py_sc_fermi.defect_system import DefectSystem\n",
    "\n",
    "defect_system = DefectSystem(defect_species = [v_Na, v_Cl], # list of py_sc_fermi.defect_species.DefectSpecies objects\n",
    "             dos = dos, # py_sc_fermi.dos.DOS object\n",
    "             volume = 46.10, # the volume of the unit cell in angstrom^3 (taken from the Materials Project, mp-22862)\n",
    "             temperature = 500) # the temperature in K"
   ]
  },
  {
   "cell_type": "markdown",
   "metadata": {},
   "source": [
    "`defect_system.report()` will print a summary of the solved defect system\n",
    "including the the defect concentrations and the self-consistent Fermi energy"
   ]
  },
  {
   "cell_type": "code",
   "execution_count": 67,
   "metadata": {},
   "outputs": [
    {
     "name": "stdout",
     "output_type": "stream",
     "text": [
      "SC Fermi level :      1.5000000000000888  (eV)\n",
      "Concentrations:\n",
      "n (electrons)  : 3.9275293083444446e-18 cm^-3\n",
      "p (holes)      : 816810.0179280476 cm^-3\n",
      "v_Na           : 1.979360284643525e+17 cm^-3\n",
      "v_Cl           : 1.9793602846353648e+17 cm^-3\n",
      "\n",
      "Breakdown of concentrations for each defect charge state:\n",
      "---------------------------------------------------------\n",
      "v_Na       : Charge Concentration(cm^-3) Total\n",
      "           :  0  1.806104e+12          0.00 \n",
      "           : -1  1.979342e+17          100.00 \n",
      "---------------------------------------------------------\n",
      "v_Cl       : Charge Concentration(cm^-3) Total\n",
      "           :  0  1.806104e+12          0.00 \n",
      "           :  1  1.979342e+17          100.00 \n",
      "\n"
     ]
    },
    {
     "name": "stderr",
     "output_type": "stream",
     "text": [
      "/Users/alex/work/py_sc_fermi_example/py-sc-fermi/py_sc_fermi/dos.py:198: RuntimeWarning: overflow encountered in exp\n",
      "  + np.exp(\n",
      "/Users/alex/work/py_sc_fermi_example/py-sc-fermi/py_sc_fermi/dos.py:207: RuntimeWarning: overflow encountered in exp\n",
      "  + np.exp((self.edos[self._n0_index() :] - e_fermi) / (kboltz * temperature))\n"
     ]
    }
   ],
   "source": [
    "defect_system.report()"
   ]
  },
  {
   "cell_type": "markdown",
   "metadata": {},
   "source": [
    "## 2. Misc. `DefectSystem` analysis\n",
    "\n",
    "There are various analyses we can perform once our defect system is defined, some\n",
    "non-exhaustive examples are included in the cells below:"
   ]
  },
  {
   "cell_type": "code",
   "execution_count": 68,
   "metadata": {},
   "outputs": [
    {
     "data": {
      "image/png": "[encoded data removed]",
      "text/plain": [
       "<Figure size 432x288 with 1 Axes>"
      ]
     },
     "metadata": {
      "needs_background": "light"
     },
     "output_type": "display_data"
    }
   ],
   "source": [
    "# plot transtition levels\n",
    "\n",
    "# get a dictonary of the lines for a transition level (TL) digram where the key is the name of the DefectSpecies \n",
    "# the values is a list of lists, where the first list is the x coordiantes of the TL profile and the second list\n",
    "# is the y coordinates of the TL profile\n",
    "transition_levels = defect_system.get_transition_levels() \n",
    "\n",
    "# get the self consistent Fermi energy to plot on the TL diagram\n",
    "sc_fermi = defect_system.get_sc_fermi()[0]\n",
    "\n",
    "# plot each defect species TL profile on the full diagram, and label as \n",
    "# the defect species name\n",
    "for k, v in transition_levels.items():\n",
    "    plt.plot(v[0], v[1], \"-o\", label=k)\n",
    "\n",
    "# plot the self consistent Fermi energy\n",
    "plt.vlines(sc_fermi, 0, 2, linestyles=\"dashed\", label = \"SC Fermi level\")\n",
    "\n",
    "plt.ylim(0, 2)\n",
    "plt.xlim(0, 5)\n",
    "plt.legend()\n",
    "plt.ylabel(\"Formation energy / eV\")\n",
    "plt.xlabel(\"Fermi Energy / eV\")\n",
    "plt.show()"
   ]
  },
  {
   "cell_type": "code",
   "execution_count": 69,
   "metadata": {},
   "outputs": [
    {
     "data": {
      "text/plain": [
       "Text(0.5, 0, 'Fermi Energy / eV')"
      ]
     },
     "execution_count": 69,
     "metadata": {},
     "output_type": "execute_result"
    },
    {
     "data": {
      "image/png": "[encoded data removed]",
      "text/plain": [
       "<Figure size 432x288 with 1 Axes>"
      ]
     },
     "metadata": {
      "needs_background": "light"
     },
     "output_type": "display_data"
    }
   ],
   "source": [
    "# plot defect charge concentrations as a function of Fermi energy\n",
    "\n",
    "fermi_energies = np.linspace(0, 3, 100)\n",
    "\n",
    "# plot the concentrations of the defects as a function of Fermi energy\n",
    "\n",
    "v_Cl_conc = []\n",
    "v_Na_conc = []\n",
    "for e_fermi in fermi_energies:\n",
    "    v_Cl_conc.append(v_Cl.get_concentration(e_fermi, 500) * 1e24 / defect_system.volume)\n",
    "    v_Na_conc.append(v_Na.get_concentration(e_fermi, 500) * 1e24 / defect_system.volume)\n",
    "\n",
    "plt.plot(fermi_energies, v_Cl_conc, label=\"$[V_\\mathrm{Cl}]$\")\n",
    "plt.plot(fermi_energies, v_Na_conc, label=\"$[V_\\mathrm{Na}]$\")\n",
    "plt.yscale(\"log\")\n",
    "\n",
    "# plot the concentration of electrons as a function of Fermi energy\n",
    "\n",
    "h_conc = []\n",
    "e_conc = []\n",
    "for e_fermi in fermi_energies:\n",
    "    h_conc.append(dos.carrier_concentrations(e_fermi, 500)[0] * 1e24 / defect_system.volume)\n",
    "    e_conc.append(dos.carrier_concentrations(e_fermi, 500)[1] * 1e24 / defect_system.volume)\n",
    "\n",
    "plt.plot(fermi_energies, h_conc, label=\"$[h^+]$\")\n",
    "plt.plot(fermi_energies, e_conc, label=\"$[e^-]$\")\n",
    "plt.legend()\n",
    "\n",
    "plt.ylabel(\"Concentration / cm^-3\")\n",
    "plt.xlabel(\"Fermi Energy / eV\")"
   ]
  },
  {
   "cell_type": "code",
   "execution_count": 76,
   "metadata": {},
   "outputs": [
    {
     "data": {
      "image/png": "[encoded data removed]",
      "text/plain": [
       "<Figure size 432x288 with 1 Axes>"
      ]
     },
     "metadata": {
      "needs_background": "light"
     },
     "output_type": "display_data"
    }
   ],
   "source": [
    "# plot the defect concentration as a function of temperature\n",
    "\n",
    "temperatures = np.linspace(400, 3000, 100)\n",
    "\n",
    "v_Cl_conc = []\n",
    "v_Na_conc = []\n",
    "for t in temperatures:\n",
    "    ds = defect_system.temperature = t\n",
    "    concentrations = defect_system.as_dict()\n",
    "    v_Cl_conc.append(concentrations[\"v_Cl\"])\n",
    "    v_Na_conc.append(concentrations[\"v_Na\"])\n",
    "\n",
    "plt.plot(temperatures, v_Cl_conc, label=\"$[V_\\mathrm{Cl}]$\", ls = \"--\")\n",
    "plt.plot(temperatures, v_Na_conc, label=\"$[V_\\mathrm{Na}]$\", ls = \"--\")\n",
    "plt.yscale(\"log\")\n",
    "\n",
    "plt.ylabel(\"Concentration / cm^-3\")\n",
    "plt.xlabel(\"temperature / K\")\n",
    "plt.show()"
   ]
  },
  {
   "cell_type": "markdown",
   "metadata": {},
   "source": [
    "## 3. Applying concentration constraints\n",
    "\n",
    "### fixing the concentrations of `DefectSpecies`\n",
    "\n",
    "There are a range of constraints we can apply to the concentrations of the defects in \n",
    "a `DefectSystem`, the first example is to fix the concentration of the `DefectSpecies`. \n",
    "This is purely a thought experiment, but may represent a system where barriers for\n",
    "ionic motion are very large, but electronic transport is facile. Here we will look at\n",
    "what happens to the hole concentration if we run our NaCl system at high temperatures, \n",
    "then rerun at low temperatures. "
   ]
  },
  {
   "cell_type": "code",
   "execution_count": 109,
   "metadata": {},
   "outputs": [
    {
     "data": {
      "image/png": "[encoded data removed]",
      "text/plain": [
       "<Figure size 432x288 with 1 Axes>"
      ]
     },
     "metadata": {
      "needs_background": "light"
     },
     "output_type": "display_data"
    }
   ],
   "source": [
    "from copy import deepcopy\n",
    "\n",
    "# make a copy of the main defect system\n",
    "live_defect_system = deepcopy(defect_system)\n",
    "\n",
    "# calculate defect and electronic carrier concentrations at high T.\n",
    "live_defect_system.temperature = 1500\n",
    "high_t_defects = live_defect_system.as_dict()\n",
    "\n",
    "# repeat at low T\n",
    "low_t_defect_system = deepcopy(defect_system)\n",
    "low_t_defect_system.temperature = 300\n",
    "low_t_defects = low_t_defect_system.as_dict()\n",
    "\n",
    "# fix the concentration of the defect species at high T, and then \n",
    "# calculate the concentration of the electron holes at low T\n",
    "fixed_species_defect_system = deepcopy(defect_system)\n",
    "fixed_species_defect_system.temperature = 300\n",
    "fixed_species_defect_system.defect_species_by_name(\"v_Na\").fix_concentration(high_t_defects[\"v_Na\"] / 1e24 * defect_system.volume)\n",
    "fixed_species_defect_system.defect_species_by_name(\"v_Cl\").fix_concentration(high_t_defects[\"v_Cl\"] / 1e24 * defect_system.volume)\n",
    "fixed_species_defects = fixed_species_defect_system.as_dict()\n",
    "\n",
    "# plot the results\n",
    "plt.bar([0, 1, 2],  [high_t_defects[\"p0\"], low_t_defects[\"p0\"], fixed_species_defects[\"p0\"]])\n",
    "plt.xticks([0, 1, 2], [\"high T\", \"low T\", \"fixed species\"])\n",
    "plt.ylabel(\"Concentration / cm^-3\")\n",
    "plt.yscale(\"log\")"
   ]
  },
  {
   "cell_type": "markdown",
   "metadata": {},
   "source": [
    "We find the hole concentration in the fixed system (high temperature defect concentrations with electrons and holes recalculated at lower temperatures) is inflated relative to the low temperature system. \n",
    "\n",
    "### fixing the concentrations of `DefectChargeStates`\n",
    "What about if we have a system where we imagine neither ionic defects or their charge states can requilibrate on the timescale of interest, here we take high temperature charged defects and fix their concentrations, rerunning at lower temperatures, and find this time, that the hole concetnration in the system with fixed concentration charge states ~ to the system calculated at high temperatures."
   ]
  },
  {
   "cell_type": "code",
   "execution_count": 110,
   "metadata": {},
   "outputs": [
    {
     "data": {
      "image/png": "[encoded data removed]",
      "text/plain": [
       "<Figure size 432x288 with 1 Axes>"
      ]
     },
     "metadata": {
      "needs_background": "light"
     },
     "output_type": "display_data"
    }
   ],
   "source": [
    "# make a copy of the main defect system\n",
    "live_defect_system = deepcopy(defect_system)\n",
    "\n",
    "# calculate defect and electronic carrier concentrations at high T.\n",
    "live_defect_system.temperature = 1500\n",
    "high_t_defects = live_defect_system.as_dict(decomposed=True)\n",
    "\n",
    "# repeat at low T\n",
    "low_t_defect_system = deepcopy(defect_system)\n",
    "low_t_defect_system.temperature = 300\n",
    "low_t_defects = low_t_defect_system.as_dict(decomposed=True)\n",
    "\n",
    "# fix the concentration of the defect species at high T, and then \n",
    "# calculate the concentration of the electron holes at low T\n",
    "fixed_species_defect_system = deepcopy(defect_system)\n",
    "fixed_species_defect_system.temperature = 300\n",
    "fixed_species_defect_system.defect_species_by_name(\"v_Na\").charge_states[-1].fix_concentration(high_t_defects[\"v_Na\"][-1] / 1e24 * defect_system.volume)\n",
    "fixed_species_defect_system.defect_species_by_name(\"v_Cl\").charge_states[1].fix_concentration(high_t_defects[\"v_Cl\"][1] / 1e24 * defect_system.volume)\n",
    "fixed_species_defects = fixed_species_defect_system.as_dict()\n",
    "\n",
    "plt.bar([0, 1, 2],  [high_t_defects[\"p0\"], low_t_defects[\"p0\"], fixed_species_defects[\"p0\"]])\n",
    "plt.xticks([0, 1, 2], [\"high T\", \"low T\", \"fixed charge states\"])\n",
    "plt.ylabel(\"Concentration / cm^-3\")\n",
    "plt.yscale(\"log\")"
   ]
  },
  {
   "cell_type": "markdown",
   "metadata": {},
   "source": [
    "### introducing an additional fixed concentration defect\n",
    "\n",
    "Finally, we can introduce an additional defect to model how the defect concentrations\n",
    "will respond to e.g. the introduction of a charged dopant. "
   ]
  },
  {
   "cell_type": "code",
   "execution_count": 121,
   "metadata": {},
   "outputs": [
    {
     "name": "stderr",
     "output_type": "stream",
     "text": [
      "/Users/alex/work/py_sc_fermi_example/py-sc-fermi/py_sc_fermi/dos.py:198: RuntimeWarning: overflow encountered in exp\n",
      "  + np.exp(\n",
      "/Users/alex/work/py_sc_fermi_example/py-sc-fermi/py_sc_fermi/dos.py:207: RuntimeWarning: overflow encountered in exp\n",
      "  + np.exp((self.edos[self._n0_index() :] - e_fermi) / (kboltz * temperature))\n"
     ]
    },
    {
     "data": {
      "image/png": "[encoded data removed]",
      "text/plain": [
       "<Figure size 432x288 with 1 Axes>"
      ]
     },
     "metadata": {
      "needs_background": "light"
     },
     "output_type": "display_data"
    }
   ],
   "source": [
    "dopant_concentrations = np.logspace(17,20)\n",
    "\n",
    "v_Na_conc = []\n",
    "v_Cl_conc = []\n",
    "p_0 = []\n",
    "n_0 = []\n",
    "for dopant_concentration in dopant_concentrations:\n",
    "    dopant_charge_state = DefectChargeState(1, fixed_concentration = dopant_concentration / 1e24 * defect_system.volume)\n",
    "    dopant_species = DefectSpecies(\"dopant\", 1, charge_states = {1 : dopant_charge_state})\n",
    "    live_defect_system = DefectSystem(defect_species = [dopant_species, v_Na, v_Cl], volume = defect_system.volume, temperature = 500, dos = defect_system.dos)\n",
    "    defect_data = live_defect_system.as_dict()\n",
    "    v_Na_conc.append(defect_data[\"v_Na\"])\n",
    "    v_Cl_conc.append(defect_data[\"v_Cl\"])\n",
    "    p_0.append(defect_data[\"p0\"])\n",
    "    n_0.append(defect_data[\"n0\"])\n",
    "\n",
    "plt.plot(dopant_concentrations, v_Na_conc, label=\"$[V_\\mathrm{Na}]$\")\n",
    "plt.plot(dopant_concentrations, v_Cl_conc, label=\"$[V_\\mathrm{Cl}]$\")\n",
    "plt.plot(dopant_concentrations, p_0, label=\"$p_0$\")\n",
    "plt.plot(dopant_concentrations, n_0, label=\"$n_0$\")\n",
    "\n",
    "\n",
    "plt.ylabel(\"Concentration / cm^-3\")\n",
    "plt.xlabel(\"Dopant concentration / cm^-3\")\n",
    "plt.yscale(\"log\")\n",
    "plt.xscale(\"log\")\n",
    "plt.legend()\n",
    "plt.show()"
   ]
  },
  {
   "cell_type": "code",
   "execution_count": null,
   "metadata": {},
   "outputs": [],
   "source": []
  }
 ],
 "metadata": {
  "kernelspec": {
   "display_name": "Python 3.9.10 ('work')",
   "language": "python",
   "name": "python3"
  },
  "language_info": {
   "codemirror_mode": {
    "name": "ipython",
    "version": 3
   },
   "file_extension": ".py",
   "mimetype": "text/x-python",
   "name": "python",
   "nbconvert_exporter": "python",
   "pygments_lexer": "ipython3",
   "version": "3.9.10"
  },
  "orig_nbformat": 4,
  "vscode": {
   "interpreter": {
    "hash": "89b753ff356a3aee657d5b1e355d20c7c6c68a1d22ccd5ebcf062a6c2a010345"
   }
  }
 },
 "nbformat": 4,
 "nbformat_minor": 2
}
