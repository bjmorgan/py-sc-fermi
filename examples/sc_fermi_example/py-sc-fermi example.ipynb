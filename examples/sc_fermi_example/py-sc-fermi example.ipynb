{
 "cells": [
  {
   "cell_type": "code",
   "execution_count": 31,
   "metadata": {},
   "outputs": [],
   "source": [
    "import re\n",
    "\n",
    "def parse_sc_fermi_output(output):\n",
    "    data = {}\n",
    "    regex = re.compile('SC Fermi level :\\s+([-\\d\\.]+)')\n",
    "    data['e_fermi'] = float(regex.findall(output)[0])\n",
    "    regex = re.compile('(\\w[()\\w\\s]+[\\w\\)])\\s+:\\s+([-+\\d.E]+)\\s+cm\\^-3')\n",
    "    data['defect species concentrations'] = {}\n",
    "    for name, conc in regex.findall(output):\n",
    "        data['defect species concentrations'][name] = float(conc)\n",
    "    divider = '-'*56 +'\\n'\n",
    "    data['defect species'] = {}\n",
    "    for defect_data in output.split(divider)[1:]:\n",
    "        split_defect_data = defect_data.split(':')\n",
    "        defect_species = split_defect_data[0].strip()\n",
    "        data[defect_species] = {}\n",
    "        for d in split_defect_data[2:]:\n",
    "            values = [ float(s) for s in d.split() ]\n",
    "            charge = values[0]\n",
    "            data[defect_species][charge] = {}\n",
    "            data[defect_species][charge]['concentration'] = values[1]\n",
    "            data[defect_species][charge]['percentage'] = values[2]\n",
    "    return data\n",
    "    "
   ]
  },
  {
   "cell_type": "code",
   "execution_count": 33,
   "metadata": {},
   "outputs": [
    {
     "name": "stdout",
     "output_type": "stream",
     "text": [
      "**************************************************************\n",
      "\n",
      "   SSSS    CCCC      FFFFFF  EEEEEE   RRRR   MM     MM  IIIII\n",
      "  SS   S  CC   C     FF      EE      RR   R  MMM   MMM    I\n",
      "  SS      CC         FF      EE      RR  R   M MM MM M    I\n",
      "   SSSS   CC     --- FFFFFF  EEEEEE  RRRR    M  MMM  M    I\n",
      "      SS  CC         FF      EE      R   R   M   M   M    I\n",
      "  S   SS  CC   C     FF      EE      R   RR  M   M   M    I\n",
      "   SSSS    CCCC      FF      EEEEEE  R   RR  M   M   M  IIIII\n",
      "\n",
      "Energies in eV, temperature in Kelvin, DOS in states/unit cell\n",
      "\n",
      "------\n",
      "j.buckeridge@ucl.ac.uk 2018\n",
      "**************************************************************\n",
      "\n",
      "unitcell.dat found...\n",
      "(Should be cell for which DOS was determined!)\n",
      " \n",
      "Volume of cell:      57.788884 A^3\n",
      " \n",
      "Found non-spin polarised system...\n",
      " \n",
      "Number of electrons in system:      18.000000\n",
      "         Energy gap of system:       0.808400 eV\n",
      "                 Temperature :     100.000000 K\n",
      "     Number of defect species:     2\n",
      " \n",
      "Defects found:\n",
      "Name  # charge states  # sites in unit cell\n",
      "V_Ga                4                     1\n",
      "Ga_Sb               3                     1\n",
      " \n",
      "Integration of DOS up to Fermi level:      13.670273\n",
      "Renormalised integrated DOS         :      18.000000\n",
      " \n",
      "Solution found!\n",
      " \n",
      "Condition (n + acceptors) - (p + donors):  -0.5018307615082E+008  cm^-3\n",
      " \n",
      "Results:\n",
      "--------\n",
      "SC Fermi level :      -0.0275010641580  (eV)\n",
      " \n",
      "Concentrations:\n",
      "n (electrons)  :   0.2585422916901E-023  cm^-3\n",
      "p (holes)      :   0.3285677364527E+020  cm^-3\n",
      "V_Ga           :   0.3285677364522E+020  cm^-3\n",
      "Ga_Sb          :   0.2159971509507E-084  cm^-3\n",
      " \n",
      "Breakdown of concentrations for each defect charge state:\n",
      "--------------------------------------------------------\n",
      "V_Ga           :   Charge   Concentration(cm^-3) % total\n",
      "               :     0.0     0.1024893014293E-100    0.00\n",
      "               :    -1.0     0.3285677364522E+020  100.00\n",
      "               :    -2.0     0.1540823829820E-098    0.00\n",
      "               :    -3.0     0.1864311480220E-118    0.00\n",
      "--------------------------------------------------------\n",
      "Ga_Sb          :   Charge   Concentration(cm^-3) % total\n",
      "               :     0.0     0.1236939790589E-091    0.00\n",
      "               :    -1.0     0.2159971384951E-084  100.00\n",
      "               :    -2.0     0.8614273816171E-094    0.00\n",
      "\n"
     ]
    }
   ],
   "source": [
    "import os\n",
    "sc_fermi_exec = '/Users/bjm42/source/sc-fermi/upload-sourceforge/sc-fermi'\n",
    "output = os.popen(sc_fermi_exec).read()\n",
    "print(output)\n",
    "sc_fermi_output = parse_sc_fermi_output(output)"
   ]
  },
  {
   "cell_type": "code",
   "execution_count": 34,
   "metadata": {},
   "outputs": [],
   "source": [
    "# py-sc-fermi\n",
    "\n",
    "from py_sc_fermi.defect_system import DefectSystem\n",
    "from py_sc_fermi.defect_species import DefectSpecies\n",
    "from py_sc_fermi.inputs import inputs_from_files\n",
    "from py_sc_fermi.dos import DOS\n",
    "\n",
    "import numpy as np"
   ]
  },
  {
   "cell_type": "code",
   "execution_count": 35,
   "metadata": {},
   "outputs": [
    {
     "name": "stdout",
     "output_type": "stream",
     "text": [
      "Volume of cell: 57.78888409009906 A^3\n",
      "Found non-spin polarised system...\n",
      "Number of electrons in system: 18\n",
      "Energy gap of system: 0.8084 eV\n",
      "Temperature: 100.0 K\n",
      "Number of defect species: 2\n",
      "Reading non-spin-polarised DOS\n"
     ]
    }
   ],
   "source": [
    "example_dir = './'\n",
    "\n",
    "unitcell_filename = f'{example_dir}/unitcell.dat'\n",
    "totdos_filename = f'{example_dir}/totdos.dat'\n",
    "input_fermi_filename = f'{example_dir}/input-fermi.dat'\n",
    "\n",
    "inputs = inputs_from_files(unitcell_filename=unitcell_filename, \n",
    "                           input_fermi_filename=input_fermi_filename, \n",
    "                           totdos_filename=totdos_filename)"
   ]
  },
  {
   "cell_type": "code",
   "execution_count": 36,
   "metadata": {},
   "outputs": [
    {
     "name": "stdout",
     "output_type": "stream",
     "text": [
      "DefectSystem\n",
      "  nelect: 18 e\n",
      "  egap:   0.8084 eV\n",
      "  volume: 57.78888409009906 A^3\n",
      "  temperature: 100.0 K\n",
      "\n",
      "Contains defect species:\n",
      "\n",
      "V_Ga, nsites=1\n",
      "  q=+0.0, e=2.4451, deg=1\n",
      "  q=-1.0, e=0.0265, deg=1\n",
      "  q=-2.0, e=2.3469, deg=1\n",
      "  q=-3.0, e=2.7146, deg=1\n",
      "\n",
      "Ga_Sb, nsites=1\n",
      "  q=+0.0, e=2.2649, deg=1\n",
      "  q=-1.0, e=2.0937, deg=1\n",
      "  q=-2.0, e=2.2527, deg=1\n",
      "\n",
      "SC Fermi level :      -0.027501064253249576  (eV)\n",
      "\n",
      "Concentrations:\n",
      "n (electrons)  : 2.585422888323457e-24 cm^-3\n",
      "p (holes)      : 3.2856773709964726e+19 cm^-3\n",
      "V_Ga           : 3.2856773282043056e+19 cm^-3\n",
      "Ga_Sb          : 2.159971485632336e-85 cm^-3\n",
      "\n",
      "Breakdown of concentrations for each defect charge state:\n",
      "---------------------------------------------------------\n",
      "V_Ga       : Charge Concentration(cm^-3) Total\n",
      "           :  0.0  1.024893e-101          0.00 \n",
      "           : -1.0  3.285677e+19          100.00 \n",
      "           : -2.0  1.540824e-99          0.00 \n",
      "           : -3.0  1.864311e-119          0.00 \n",
      "---------------------------------------------------------\n",
      "Ga_Sb      : Charge Concentration(cm^-3) Total\n",
      "           :  0.0  1.236940e-92          0.00 \n",
      "           : -1.0  2.159971e-85          100.00 \n",
      "           : -2.0  8.614274e-95          0.00 \n"
     ]
    },
    {
     "name": "stderr",
     "output_type": "stream",
     "text": [
      "/Users/bjm42/.pyenv/versions/3.7.0/lib/python3.7/site-packages/scipy/optimize/_minimize.py:763: RuntimeWarning: Method 'bounded' does not support relative tolerance in x; defaulting to absolute tolerance.\n",
      "  \"defaulting to absolute tolerance.\", RuntimeWarning)\n",
      "/Users/bjm42/source/py-sc-fermi/py_sc_fermi/dos.py:86: RuntimeWarning: overflow encountered in exp\n",
      "  return dos / (1.0 + np.exp((e_fermi - edos)/kT))\n",
      "/Users/bjm42/source/py-sc-fermi/py_sc_fermi/dos.py:89: RuntimeWarning: overflow encountered in exp\n",
      "  return dos / (1.0 + np.exp((edos - e_fermi)/kT))\n",
      "/Users/bjm42/source/py-sc-fermi/py_sc_fermi/defect_charge_state.py:79: RuntimeWarning: overflow encountered in exp\n",
      "  return self.degeneracy * np.exp(expfac)\n"
     ]
    }
   ],
   "source": [
    "defect_system = DefectSystem( defect_species=inputs['defect_species'],\n",
    "                              volume=inputs['volume'],\n",
    "                              dos=inputs['dos'], # DOS object\n",
    "                              temperature=inputs['temperature'] )\n",
    "\n",
    "print(defect_system)\n",
    "\n",
    "defect_system.report()"
   ]
  },
  {
   "cell_type": "code",
   "execution_count": 6,
   "metadata": {},
   "outputs": [
    {
     "data": {
      "text/plain": [
       "array([[-20.65969874,   2.4451    ],\n",
       "       [ -2.4186    ,   2.4451    ],\n",
       "       [  1.34405   ,  -1.31755   ],\n",
       "       [ 11.38265078, -31.43335235]])"
      ]
     },
     "execution_count": 6,
     "metadata": {},
     "output_type": "execute_result"
    }
   ],
   "source": [
    "defect_system.defect_species_by_name('V_Ga').tl_profile(ef_min=defect_system.dos.emin(), ef_max=defect_system.dos.emax())"
   ]
  }
 ],
 "metadata": {
  "kernelspec": {
   "display_name": "Python 3",
   "language": "python",
   "name": "python3"
  },
  "language_info": {
   "codemirror_mode": {
    "name": "ipython",
    "version": 3
   },
   "file_extension": ".py",
   "mimetype": "text/x-python",
   "name": "python",
   "nbconvert_exporter": "python",
   "pygments_lexer": "ipython3",
   "version": "3.7.0"
  }
 },
 "nbformat": 4,
 "nbformat_minor": 2
}
