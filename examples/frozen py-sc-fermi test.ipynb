{
 "cells": [
  {
   "cell_type": "code",
   "execution_count": 1,
   "metadata": {},
   "outputs": [],
   "source": [
    "# py-sc-fermi\n",
    "\n",
    "import timeit\n",
    "\n",
    "start = timeit.default_timer()\n",
    "\n",
    "from py_sc_fermi.defect_system import DefectSystem\n",
    "from py_sc_fermi.defect_species import DefectSpecies\n",
    "from py_sc_fermi.defect_charge_state import FrozenDefectChargeState\n",
    "from py_sc_fermi.inputs import inputs_from_files\n",
    "\n",
    "import numpy as np"
   ]
  },
  {
   "cell_type": "code",
   "execution_count": 2,
   "metadata": {},
   "outputs": [
    {
     "name": "stdout",
     "output_type": "stream",
     "text": [
      "Volume of cell: 57.78888409009906 A^3\n",
      "Found non-spin polarised system...\n",
      "Number of electrons in system: 18\n",
      "Energy gap of system: 0.8084 eV\n",
      "Temperature: 100.0 K\n",
      "Number of defect species: 2\n"
     ]
    }
   ],
   "source": [
    "example_dir = 'example_inputs'\n",
    "\n",
    "unitcell_filename = f'{example_dir}/unitcell.dat'\n",
    "totdos_filename = f'{example_dir}/totdos.dat'\n",
    "input_fermi_filename = f'{example_dir}/input-fermi.dat'\n",
    "\n",
    "inputs = inputs_from_files(unitcell_filename=unitcell_filename, \n",
    "                           input_fermi_filename=input_fermi_filename, \n",
    "                           totdos_filename=totdos_filename)"
   ]
  },
  {
   "cell_type": "code",
   "execution_count": 3,
   "metadata": {},
   "outputs": [
    {
     "data": {
      "text/plain": [
       "DefectSystem\n",
       "  nelect: 18 e\n",
       "  egap:   0.8084 eV\n",
       "  volume: 57.78888409009906 A^3\n",
       "  temperature: 300.0 K\n",
       "\n",
       "Contains defect species:\n",
       "\n",
       "V_Ga, nsites=1\n",
       "  q=+0.0, e=2.4451, deg=1\n",
       "  q=-1.0, e=0.0265, deg=1\n",
       "  q=-2.0, e=2.3469, deg=1\n",
       "  q=-3.0, e=2.7146, deg=1\n",
       "\n",
       "Ga_Sb, nsites=1\n",
       "  q=+0.0, e=2.2649, deg=1\n",
       "  q=-1.0, e=2.0937, deg=1\n",
       "  q=-2.0, e=2.2527, deg=1"
      ]
     },
     "execution_count": 3,
     "metadata": {},
     "output_type": "execute_result"
    }
   ],
   "source": [
    "defect_system = DefectSystem( defect_species=inputs['defect_species'],\n",
    "                              volume=inputs['volume'],\n",
    "                              nelect=inputs['nelect'],\n",
    "                              edos=inputs['edos'],\n",
    "                              dos=inputs['dos'],\n",
    "                              egap=inputs['egap'], \n",
    "                              temperature=300.0 )\n",
    "\n",
    "defect_system"
   ]
  },
  {
   "cell_type": "code",
   "execution_count": 4,
   "metadata": {},
   "outputs": [
    {
     "data": {
      "text/plain": [
       "DefectSystem\n",
       "  nelect: 18 e\n",
       "  egap:   0.8084 eV\n",
       "  volume: 57.78888409009906 A^3\n",
       "  temperature: 300.0 K\n",
       "\n",
       "Contains defect species:\n",
       "\n",
       "V_Ga, nsites=1\n",
       "fixed [c] = 0.0018987562837582401 cm^-3\n",
       "  q=+0.0, e=2.4451, deg=1\n",
       "  q=-1.0, e=0.0265, deg=1\n",
       "  q=-2.0, e=2.3469, deg=1\n",
       "  q=-3.0, e=2.7146, deg=1\n",
       "\n",
       "Ga_Sb, nsites=1\n",
       "  q=+0.0, e=2.2649, deg=1\n",
       "  q=-1.0, e=2.0937, deg=1\n",
       "  q=-2.0, e=2.2527, deg=1"
      ]
     },
     "execution_count": 4,
     "metadata": {},
     "output_type": "execute_result"
    }
   ],
   "source": [
    "from collections import Counter\n",
    "nfrozen = 1\n",
    "namef = ['V_Ga']\n",
    "concf = [0.3285677364522e20]\n",
    "# check frozen defects are included in the original list of defects\n",
    "for name in namef:\n",
    "    if name not in defect_system.defect_species_names:\n",
    "        raise ValueError((f'ERROR: fixed concentration defect \"{name}\"'+\n",
    "                           'is not in list of original defects!\\n'+\n",
    "                           'Please add new frozen defects as fixed charge defects in'\n",
    "                           'a separate list - otherwise a solution cannot be found!!'))\n",
    "# Check if any defects have been assigned multiple fixed concentrations\n",
    "c = Counter(namef)\n",
    "for n, count in c.items():\n",
    "    if count > 1:\n",
    "        raise ValueError(f'ERROR: defect \"{n}\"has multiple fixed concentrations!!')\n",
    "for n, c in zip(namef, concf):\n",
    "    defect_system.defect_species_by_name(n).fix_concentration( c * defect_system.volume / 1e24 )\n",
    "    \n",
    "defect_system"
   ]
  },
  {
   "cell_type": "code",
   "execution_count": 6,
   "metadata": {},
   "outputs": [
    {
     "name": "stdout",
     "output_type": "stream",
     "text": [
      "1.9e+18\n",
      "5e+19\n",
      "SC Fermi level :      0.018315362596523502  (eV)\n",
      "\n",
      "Concentrations:\n",
      "n (electrons)  : 609633.7634268429 cm^-3\n",
      "p (holes)      : 1.3479102448055966e+19 cm^-3\n",
      "V_Ga           : 3.285677364522e+19 cm^-3\n",
      "Ga_Sb          : 2.3737107494384077e-13 cm^-3\n",
      "Ga_i           : 5e+19 cm^-3\n",
      "\n",
      "Breakdown of concentrations for each defect charge state:\n",
      "---------------------------------------------------------\n",
      "V_Ga       : Charge Concentration(cm^-3) Total\n",
      "           :  0.0  1.672432e+17          0.51 \n",
      "           : -1.0  1.900000e+18          5.78  [fixed]\n",
      "           : -2.0  3.078949e+19          93.71 \n",
      "           : -3.0  4.159159e+13          0.00 \n",
      "---------------------------------------------------------\n",
      "Ga_Sb      : Charge Concentration(cm^-3) Total\n",
      "           :  0.0  1.547224e-16          0.07 \n",
      "           : -1.0  2.361934e-13          99.50 \n",
      "           : -2.0  1.022993e-15          0.43 \n",
      "---------------------------------------------------------\n",
      "Ga_i       : Charge Concentration(cm^-3) Total\n",
      "           :  1.0  5.000000e+19          100.00  [fixed]\n"
     ]
    },
    {
     "name": "stderr",
     "output_type": "stream",
     "text": [
      "/Users/bjm42/.pyenv/versions/3.7.0/lib/python3.7/site-packages/scipy/optimize/_minimize.py:763: RuntimeWarning: Method 'bounded' does not support relative tolerance in x; defaulting to absolute tolerance.\n",
      "  \"defaulting to absolute tolerance.\", RuntimeWarning)\n",
      "/Users/bjm42/source/py-sc-fermi/py_sc_fermi/dos.py:56: RuntimeWarning: overflow encountered in exp\n",
      "  return dos / (1.0 + np.exp((edos - e_fermi)/kT))\n",
      "/Users/bjm42/source/py-sc-fermi/py_sc_fermi/dos.py:53: RuntimeWarning: overflow encountered in exp\n",
      "  return dos / (1.0 + np.exp((e_fermi - edos)/kT))\n"
     ]
    }
   ],
   "source": [
    "ficharg = False\n",
    "fixconch = False\n",
    "namefn = ['V_Ga', 'Ga_i']\n",
    "chargefn = [-1.0, 1.0]\n",
    "concfn = [0.19e19, 0.5e20]\n",
    "if 0 in chargefn:\n",
    "    checkfixchg = True\n",
    "else:\n",
    "    checkfixchg = False\n",
    "for n,q,c  in zip( namefn, chargefn, concfn ):\n",
    "    print(c)\n",
    "    c = c * defect_system.volume / 1e24\n",
    "    frozen_charge_state = FrozenDefectChargeState(charge=q, concentration=c)\n",
    "    if n in defect_system.defect_species_names:     \n",
    "        defect_system.defect_species_by_name(n).charge_states[q] = frozen_charge_state\n",
    "    else:\n",
    "        ds = DefectSpecies(name=n, nsites=1, charge_states=[frozen_charge_state])\n",
    "        defect_system.defect_species.append(ds)\n",
    "\n",
    "defect_system.check_concentrations()\n",
    "defect_system.report()"
   ]
  },
  {
   "cell_type": "code",
   "execution_count": null,
   "metadata": {},
   "outputs": [],
   "source": []
  }
 ],
 "metadata": {
  "kernelspec": {
   "display_name": "Python 3",
   "language": "python",
   "name": "python3"
  },
  "language_info": {
   "codemirror_mode": {
    "name": "ipython",
    "version": 3
   },
   "file_extension": ".py",
   "mimetype": "text/x-python",
   "name": "python",
   "nbconvert_exporter": "python",
   "pygments_lexer": "ipython3",
   "version": "3.7.0"
  }
 },
 "nbformat": 4,
 "nbformat_minor": 2
}
