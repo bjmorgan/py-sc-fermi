{
 "cells": [
  {
   "cell_type": "code",
   "execution_count": 1,
   "metadata": {},
   "outputs": [],
   "source": [
    "# py-sc-fermi\n",
    "\n",
    "import timeit\n",
    "\n",
    "start = timeit.default_timer()\n",
    "\n",
    "from py_sc_fermi.defect_system import DefectSystem\n",
    "from py_sc_fermi.defect_species import DefectSpecies\n",
    "from py_sc_fermi.defect_charge_state import FrozenDefectChargeState\n",
    "from py_sc_fermi.inputs import inputs_from_files\n",
    "\n",
    "import numpy as np"
   ]
  },
  {
   "cell_type": "code",
   "execution_count": 2,
   "metadata": {},
   "outputs": [
    {
     "name": "stdout",
     "output_type": "stream",
     "text": [
      "Volume of cell: 57.78888409009906 A^3\n",
      "Found non-spin polarised system...\n",
      "Number of electrons in system: 18\n",
      "Energy gap of system: 0.8084 eV\n",
      "Temperature: 100.0 K\n",
      "Number of defect species: 2\n"
     ]
    }
   ],
   "source": [
    "example_dir = 'example_inputs'\n",
    "\n",
    "unitcell_filename = f'{example_dir}/unitcell.dat'\n",
    "totdos_filename = f'{example_dir}/totdos.dat'\n",
    "input_fermi_filename = f'{example_dir}/input-fermi.dat'\n",
    "\n",
    "inputs = inputs_from_files(unitcell_filename=unitcell_filename, \n",
    "                           input_fermi_filename=input_fermi_filename, \n",
    "                           totdos_filename=totdos_filename)"
   ]
  },
  {
   "cell_type": "code",
   "execution_count": 3,
   "metadata": {},
   "outputs": [
    {
     "data": {
      "text/plain": [
       "DefectSystem\n",
       "  nelect: 18 e\n",
       "  egap:   0.8084 eV\n",
       "  volume: 57.78888409009906 A^3\n",
       "  temperature: 300.0 K\n",
       "\n",
       "Contains defect species:\n",
       "\n",
       "V_Ga, nsites=1\n",
       "  q=+0.0, e=2.4451, deg=1\n",
       "  q=-1.0, e=0.0265, deg=1\n",
       "  q=-2.0, e=2.3469, deg=1\n",
       "  q=-3.0, e=2.7146, deg=1\n",
       "\n",
       "Ga_Sb, nsites=1\n",
       "  q=+0.0, e=2.2649, deg=1\n",
       "  q=-1.0, e=2.0937, deg=1\n",
       "  q=-2.0, e=2.2527, deg=1"
      ]
     },
     "execution_count": 3,
     "metadata": {},
     "output_type": "execute_result"
    }
   ],
   "source": [
    "defect_system = DefectSystem( defect_species=inputs['defect_species'],\n",
    "                              volume=inputs['volume'],\n",
    "                              nelect=inputs['nelect'],\n",
    "                              edos=inputs['edos'],\n",
    "                              dos=inputs['dos'],\n",
    "                              egap=inputs['egap'], \n",
    "                              temperature=300.0 )\n",
    "\n",
    "defect_system"
   ]
  },
  {
   "cell_type": "code",
   "execution_count": 4,
   "metadata": {},
   "outputs": [
    {
     "data": {
      "text/plain": [
       "DefectSystem\n",
       "  nelect: 18 e\n",
       "  egap:   0.8084 eV\n",
       "  volume: 57.78888409009906 A^3\n",
       "  temperature: 300.0 K\n",
       "\n",
       "Contains defect species:\n",
       "\n",
       "V_Ga, nsites=1\n",
       "fixed [c] = 0.0018987562837582401 cm^-3\n",
       "  q=+0.0, e=2.4451, deg=1\n",
       "  q=-1.0, e=0.0265, deg=1\n",
       "  q=-2.0, e=2.3469, deg=1\n",
       "  q=-3.0, e=2.7146, deg=1\n",
       "\n",
       "Ga_Sb, nsites=1\n",
       "  q=+0.0, e=2.2649, deg=1\n",
       "  q=-1.0, e=2.0937, deg=1\n",
       "  q=-2.0, e=2.2527, deg=1"
      ]
     },
     "execution_count": 4,
     "metadata": {},
     "output_type": "execute_result"
    }
   ],
   "source": [
    "from collections import Counter\n",
    "nfrozen = 1\n",
    "namef = ['V_Ga']\n",
    "concf = [0.3285677364522e20]\n",
    "# check frozen defects are included in the original list of defects\n",
    "for name in namef:\n",
    "    if name not in defect_system.defect_species_names:\n",
    "        raise ValueError((f'ERROR: fixed concentration defect \"{name}\"'+\n",
    "                           'is not in list of original defects!\\n'+\n",
    "                           'Please add new frozen defects as fixed charge defects in'\n",
    "                           'a separate list - otherwise a solution cannot be found!!'))\n",
    "# Check if any defects have been assigned multiple fixed concentrations\n",
    "c = Counter(namef)\n",
    "for n, count in c.items():\n",
    "    if count > 1:\n",
    "        raise ValueError(f'ERROR: defect \"{n}\"has multiple fixed concentrations!!')\n",
    "for n, c in zip(namef, concf):\n",
    "    defect_system.defect_species_by_name(n).fixed_concentration = c * defect_system.volume / 1e24\n",
    "    \n",
    "defect_system"
   ]
  },
  {
   "cell_type": "code",
   "execution_count": 5,
   "metadata": {},
   "outputs": [
    {
     "name": "stdout",
     "output_type": "stream",
     "text": [
      "1.9e+18\n",
      "5e+19\n"
     ]
    },
    {
     "data": {
      "text/plain": [
       "DefectSystem\n",
       "  nelect: 18 e\n",
       "  egap:   0.8084 eV\n",
       "  volume: 57.78888409009906 A^3\n",
       "  temperature: 300.0 K\n",
       "\n",
       "Contains defect species:\n",
       "\n",
       "V_Ga, nsites=1\n",
       "fixed [c] = 0.0018987562837582401 cm^-3\n",
       "  q=+0.0, e=2.4451, deg=1\n",
       "  q=-1.0, [c]=0.00010979887977118821\n",
       "  q=-2.0, e=2.3469, deg=1\n",
       "  q=-3.0, e=2.7146, deg=1\n",
       "\n",
       "Ga_Sb, nsites=1\n",
       "  q=+0.0, e=2.2649, deg=1\n",
       "  q=-1.0, e=2.0937, deg=1\n",
       "  q=-2.0, e=2.2527, deg=1\n",
       "\n",
       "Ga_i, nsites=1\n",
       "  q=+1.0, [c]=0.002889444204504953"
      ]
     },
     "execution_count": 5,
     "metadata": {},
     "output_type": "execute_result"
    }
   ],
   "source": [
    "ficharg = False\n",
    "fixconch = False\n",
    "namefn = ['V_Ga', 'Ga_i']\n",
    "chargefn = [-1.0, 1.0]\n",
    "concfn = [0.19e19, 0.5e20]\n",
    "if 0 in chargefn:\n",
    "    checkfixchg = True\n",
    "else:\n",
    "    checkfixchg = False\n",
    "for n,q,c  in zip( namefn, chargefn, concfn ):\n",
    "    print(c)\n",
    "    c = c * defect_system.volume / 1e24\n",
    "    frozen_charge_state = FrozenDefectChargeState(charge=q, concentration=c)\n",
    "    if n in defect_system.defect_species_names:     \n",
    "        defect_system.defect_species_by_name(n).charge_states[q] = frozen_charge_state\n",
    "    else:\n",
    "        ds = DefectSpecies(name=n, nsites=1, charge_states=[frozen_charge_state])\n",
    "        defect_system.defect_species.append(ds)\n",
    "\n",
    "defect_system.check_concentrations()\n",
    "defect_system"
   ]
  },
  {
   "cell_type": "code",
   "execution_count": 6,
   "metadata": {
    "scrolled": false
   },
   "outputs": [
    {
     "name": "stdout",
     "output_type": "stream",
     "text": [
      "SC Fermi level :      0.018315362596523502  (eV)\n",
      "\n",
      "Concentrations:\n",
      "n (electrons)  : 609633.7634268429 cm^-3\n",
      "p (holes)      : 1.3479102448055966e+19 cm^-3\n",
      "V_Ga           : 3.285677364522e+19 cm^-3\n",
      "Ga_Sb          : 2.3737107494384077e-13 cm^-3\n",
      "Ga_i           : 5e+19 cm^-3\n",
      "\n",
      "Breakdown of concentrations for each defect charge state:\n",
      "---------------------------------------------------------\n",
      "V_Ga       : Charge Concentration(cm^-3) Total\n",
      "           :  0.0  1.672432e+17          0.51 \n",
      "           : -1.0  1.900000e+18          5.78  [fixed]\n",
      "           : -2.0  3.078949e+19          93.71 \n",
      "           : -3.0  4.159159e+13          0.00 \n",
      "---------------------------------------------------------\n",
      "Ga_Sb      : Charge Concentration(cm^-3) Total\n",
      "           :  0.0  1.547224e-16          0.07 \n",
      "           : -1.0  2.361934e-13          99.50 \n",
      "           : -2.0  1.022993e-15          0.43 \n",
      "---------------------------------------------------------\n",
      "Ga_i       : Charge Concentration(cm^-3) Total\n",
      "           :  1.0  5.000000e+19          100.00  [fixed]\n"
     ]
    },
    {
     "name": "stderr",
     "output_type": "stream",
     "text": [
      "/Users/bjm42/.pyenv/versions/3.7.0/lib/python3.7/site-packages/scipy/optimize/_minimize.py:763: RuntimeWarning: Method 'bounded' does not support relative tolerance in x; defaulting to absolute tolerance.\n",
      "  \"defaulting to absolute tolerance.\", RuntimeWarning)\n",
      "/Users/bjm42/source/py-sc-fermi/py_sc_fermi/defect_system.py:134: RuntimeWarning: overflow encountered in exp\n",
      "  return dos / (1.0 + np.exp((edos - e_fermi)/kT))\n",
      "/Users/bjm42/source/py-sc-fermi/py_sc_fermi/defect_system.py:131: RuntimeWarning: overflow encountered in exp\n",
      "  return dos / (1.0 + np.exp((e_fermi - edos)/kT))\n"
     ]
    }
   ],
   "source": [
    "defect_system.report()"
   ]
  },
  {
   "cell_type": "code",
   "execution_count": 7,
   "metadata": {},
   "outputs": [
    {
     "name": "stdout",
     "output_type": "stream",
     "text": [
      "V_Ga {0.0: 3.920052577743805e-05, -1.0: 0.00010979887977118821, -2.0: 0.0017497557143615952, -3.0: 1.163848018831286e-09}\n",
      "0.0 8.397969256250837e-42\n",
      "-1.0 0.00010979887977118821\n",
      "-2.0 3.74851979756233e-40\n",
      "-3.0 2.4933236703470463e-46\n",
      "Ga_Sb {0.0: 8.94123733492443e-39, -1.0: 6.720905525451965e-36, -2.0: 1.4333371946423939e-38}\n",
      "0.0 8.94123733492443e-39\n",
      "-1.0 6.720905525451965e-36\n",
      "-2.0 1.4333371946423939e-38\n",
      "Ga_i {1.0: 0.002889444204504953}\n",
      "1.0 0.002889444204504953\n"
     ]
    }
   ],
   "source": [
    "for ds in defect_system.defect_species:\n",
    "    print(ds.name, ds.charge_state_concentrations(e_fermi=0.0, temperature=defect_system.temperature))\n",
    "    for cs in ds.charge_states.values():\n",
    "        print( cs.charge, cs.get_concentration(e_fermi=0.0, temperature=defect_system.temperature, nsite=ds.nsites))"
   ]
  },
  {
   "cell_type": "code",
   "execution_count": 8,
   "metadata": {},
   "outputs": [
    {
     "name": "stdout",
     "output_type": "stream",
     "text": [
      "2.4451\n",
      "2.3469\n",
      "2.7146\n",
      "2.2649\n",
      "2.0937\n",
      "2.2527\n"
     ]
    }
   ],
   "source": [
    "for ds in defect_system.defect_species:\n",
    "    for cs in ds.charge_states.values():\n",
    "        if not cs.fixed_concentration:\n",
    "            print(cs.energy)"
   ]
  },
  {
   "cell_type": "code",
   "execution_count": 9,
   "metadata": {},
   "outputs": [],
   "source": [
    "loweng = 2.65e-2\n",
    "lowdeg = 1.0"
   ]
  },
  {
   "cell_type": "code",
   "execution_count": 10,
   "metadata": {},
   "outputs": [],
   "source": [
    "import math"
   ]
  },
  {
   "cell_type": "code",
   "execution_count": 11,
   "metadata": {},
   "outputs": [
    {
     "name": "stdout",
     "output_type": "stream",
     "text": [
      "enerq 2.3204000000000002\n"
     ]
    },
    {
     "ename": "NameError",
     "evalue": "name 'kboltz' is not defined",
     "output_type": "error",
     "traceback": [
      "\u001b[0;31m---------------------------------------------------------------------------\u001b[0m",
      "\u001b[0;31mNameError\u001b[0m                                 Traceback (most recent call last)",
      "\u001b[0;32m<ipython-input-11-a90564233825>\u001b[0m in \u001b[0;36m<module>\u001b[0;34m\u001b[0m\n\u001b[1;32m     10\u001b[0m         \u001b[0menerq\u001b[0m \u001b[0;34m=\u001b[0m \u001b[0mcs\u001b[0m\u001b[0;34m.\u001b[0m\u001b[0menergy\u001b[0m \u001b[0;34m+\u001b[0m \u001b[0mcs\u001b[0m\u001b[0;34m.\u001b[0m\u001b[0mcharge\u001b[0m \u001b[0;34m*\u001b[0m \u001b[0mdelphi\u001b[0m \u001b[0;34m-\u001b[0m \u001b[0mloweng\u001b[0m\u001b[0;34m\u001b[0m\u001b[0m\n\u001b[1;32m     11\u001b[0m         \u001b[0mprint\u001b[0m\u001b[0;34m(\u001b[0m\u001b[0;34m'enerq'\u001b[0m\u001b[0;34m,\u001b[0m\u001b[0menerq\u001b[0m\u001b[0;34m)\u001b[0m\u001b[0;34m\u001b[0m\u001b[0m\n\u001b[0;32m---> 12\u001b[0;31m         \u001b[0mexpfac\u001b[0m \u001b[0;34m=\u001b[0m \u001b[0;34m-\u001b[0m\u001b[0menerq\u001b[0m \u001b[0;34m/\u001b[0m \u001b[0;34m(\u001b[0m\u001b[0mkboltz\u001b[0m \u001b[0;34m*\u001b[0m \u001b[0mdefect_system\u001b[0m\u001b[0;34m.\u001b[0m\u001b[0mtemperature\u001b[0m\u001b[0;34m)\u001b[0m\u001b[0;34m\u001b[0m\u001b[0m\n\u001b[0m\u001b[1;32m     13\u001b[0m         \u001b[0mprint\u001b[0m\u001b[0;34m(\u001b[0m\u001b[0;34m'expfac'\u001b[0m\u001b[0;34m,\u001b[0m\u001b[0mexpfac\u001b[0m\u001b[0;34m)\u001b[0m\u001b[0;34m\u001b[0m\u001b[0m\n\u001b[1;32m     14\u001b[0m         \u001b[0msum1\u001b[0m \u001b[0;34m+=\u001b[0m \u001b[0;34m(\u001b[0m\u001b[0mcs\u001b[0m\u001b[0;34m.\u001b[0m\u001b[0mdeg\u001b[0m \u001b[0;34m/\u001b[0m \u001b[0mlowdeg\u001b[0m \u001b[0;34m*\u001b[0m \u001b[0mmath\u001b[0m\u001b[0;34m.\u001b[0m\u001b[0mexp\u001b[0m\u001b[0;34m(\u001b[0m\u001b[0mexpfac\u001b[0m\u001b[0;34m)\u001b[0m\u001b[0;34m)\u001b[0m\u001b[0;34m\u001b[0m\u001b[0m\n",
      "\u001b[0;31mNameError\u001b[0m: name 'kboltz' is not defined"
     ]
    }
   ],
   "source": [
    "delphi = 0.0\n",
    "\n",
    "for ds in defect_system.defect_species:\n",
    "    sum1 = 0.0\n",
    "    for cs in ds.charge_states.values():\n",
    "        if cs.fixed_concentration:\n",
    "            continue\n",
    "        if cs.charge == 0:\n",
    "            continue\n",
    "        enerq = cs.energy + cs.charge * delphi - loweng\n",
    "        print('enerq',enerq)\n",
    "        expfac = -enerq / (kboltz * defect_system.temperature)\n",
    "        print('expfac',expfac)\n",
    "        sum1 += (cs.deg / lowdeg * math.exp(expfac))\n",
    "        print(sum1)\n"
   ]
  },
  {
   "cell_type": "code",
   "execution_count": null,
   "metadata": {},
   "outputs": [],
   "source": [
    "-2.230400000002/defect_system.kT"
   ]
  },
  {
   "cell_type": "code",
   "execution_count": null,
   "metadata": {},
   "outputs": [],
   "source": [
    "math.exp(-258.8268797008544)"
   ]
  },
  {
   "cell_type": "code",
   "execution_count": null,
   "metadata": {},
   "outputs": [],
   "source": [
    "from py_sc_fermi.constants import kboltz"
   ]
  },
  {
   "cell_type": "code",
   "execution_count": null,
   "metadata": {},
   "outputs": [],
   "source": [
    "defect_system.temperature"
   ]
  },
  {
   "cell_type": "code",
   "execution_count": null,
   "metadata": {},
   "outputs": [],
   "source": []
  }
 ],
 "metadata": {
  "kernelspec": {
   "display_name": "Python 3",
   "language": "python",
   "name": "python3"
  },
  "language_info": {
   "codemirror_mode": {
    "name": "ipython",
    "version": 3
   },
   "file_extension": ".py",
   "mimetype": "text/x-python",
   "name": "python",
   "nbconvert_exporter": "python",
   "pygments_lexer": "ipython3",
   "version": "3.7.0"
  }
 },
 "nbformat": 4,
 "nbformat_minor": 2
}
