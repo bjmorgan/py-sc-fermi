{
 "cells": [
  {
   "cell_type": "code",
   "execution_count": 1,
   "metadata": {},
   "outputs": [],
   "source": [
    "# py-sc-fermi\n",
    "\n",
    "import timeit\n",
    "\n",
    "start = timeit.default_timer()\n",
    "\n",
    "from defect_system import DefectSystem\n",
    "from defect_species import DefectSpecies\n",
    "from inputs import inputs_from_files\n",
    "\n",
    "import numpy as np"
   ]
  },
  {
   "cell_type": "markdown",
   "metadata": {},
   "source": [
    "Open `unitcell.dat` to read in vectors and determine volume of pure cell"
   ]
  },
  {
   "cell_type": "code",
   "execution_count": null,
   "metadata": {},
   "outputs": [],
   "source": []
  },
  {
   "cell_type": "code",
   "execution_count": 2,
   "metadata": {},
   "outputs": [
    {
     "name": "stdout",
     "output_type": "stream",
     "text": [
      "Volume of cell: 57.78888409009906 A^3\n",
      "Found non-spin polarised system...\n",
      "Number of electrons in system: 18\n",
      "Energy gap of system: 0.8084 eV\n",
      "Temperature: 100.0 K\n",
      "Number of defect species: 2\n"
     ]
    }
   ],
   "source": [
    "example_dir = '/Users/bjm42/source/sc-fermi/upload-sourceforge/example'\n",
    "\n",
    "unitcell_filename = f'{example_dir}/unitcell.dat'\n",
    "totdos_filename = f'{example_dir}/totdos.dat'\n",
    "input_fermi_filename = f'{example_dir}/input-fermi.dat'\n",
    "\n",
    "inputs = inputs_from_files(unitcell_filename=unitcell_filename, \n",
    "                           input_fermi_filename=input_fermi_filename, \n",
    "                           totdos_filename=totdos_filename)"
   ]
  },
  {
   "cell_type": "code",
   "execution_count": 3,
   "metadata": {},
   "outputs": [],
   "source": [
    "# For each defect calculate the transition levels and write them to \n",
    "# file for plotting. Determine them by finding the lowest energy defect\n",
    "# at emin, then find earliest transition to a less positive charge state,\n",
    "# and continue until all transitions are found\n",
    "\n",
    "# if defect_species:\n",
    "#     with open('transition-levels.dat', 'w') as f:\n",
    "#         for ds in defect_species:\n",
    "#             f.write(f'# {ds.name}\\n')\n",
    "#             tls = ds.tl_profile(emin, emax)\n",
    "#             for tl in tls:\n",
    "#                 f.write(f'{tl[0]}  {tl[1]}\\n')\n",
    "#             f.write('\\n')"
   ]
  },
  {
   "cell_type": "code",
   "execution_count": 4,
   "metadata": {},
   "outputs": [
    {
     "name": "stdout",
     "output_type": "stream",
     "text": [
      "SC Fermi level :      -0.03222937669363214  (eV)\n",
      "\n",
      "Concentrations:\n",
      "n (electrons)  : 1.4936874352565761e-24 cm^-3\n",
      "p (holes)      : 1.8981420845450064e+19 cm^-3\n",
      "V_Ga      : 1.8981420985999016e+19 cm^-3\n",
      "Ga_Sb      : 1.247819724840067e-85 cm^-3\n",
      "\n",
      "Breakdown of concentrations for each defect charge state:\n",
      "---------------------------------------------------------\n",
      "V_Ga      : Charge Concentration(cm^-3) Total\n",
      "           : 0.0 1.024893014293496e-101 0.00\n",
      "           : -1.0 1.8981420985999016e+19 100.00\n",
      "           : -2.0 5.14233774781084e-100 0.00\n",
      "           : -3.0 3.5944288439466044e-120 0.00\n",
      "---------------------------------------------------------\n",
      "Ga_Sb      : Charge Concentration(cm^-3) Total\n",
      "           : 0.0 1.2369397905893304e-92 0.00\n",
      "           : -1.0 1.2478196008585956e-85 100.00\n",
      "           : -2.0 2.874923437551106e-95 0.00\n"
     ]
    },
    {
     "name": "stderr",
     "output_type": "stream",
     "text": [
      "/Users/bjm42/.pyenv/versions/3.7.0/lib/python3.7/site-packages/scipy/optimize/_minimize.py:763: RuntimeWarning: Method 'bounded' does not support relative tolerance in x; defaulting to absolute tolerance.\n",
      "  \"defaulting to absolute tolerance.\", RuntimeWarning)\n",
      "/Users/bjm42/source/py-sc-fermi/py-sc-fermi/defect_system.py:96: RuntimeWarning: overflow encountered in exp\n",
      "  return dos / (1.0 + np.exp((e_fermi - edos)/kT))\n",
      "/Users/bjm42/source/py-sc-fermi/py-sc-fermi/defect_system.py:99: RuntimeWarning: overflow encountered in exp\n",
      "  return dos / (1.0 + np.exp((edos - e_fermi)/kT))\n",
      "/Users/bjm42/source/py-sc-fermi/py-sc-fermi/defect_charge_state.py:17: RuntimeWarning: overflow encountered in exp\n",
      "  return nsite * self.deg * np.exp(expfac)\n"
     ]
    }
   ],
   "source": [
    "defect_system = DefectSystem( defect_species=inputs['defect_species'],\n",
    "                              volume=inputs['volume'],\n",
    "                              nelect=inputs['nelect'],\n",
    "                              edos=inputs['edos'],\n",
    "                              dos=inputs['dos'],\n",
    "                              egap=inputs['egap'], \n",
    "                              temperature=inputs['temperature'] )\n",
    "\n",
    "defect_system.report()"
   ]
  },
  {
   "cell_type": "code",
   "execution_count": null,
   "metadata": {},
   "outputs": [],
   "source": []
  }
 ],
 "metadata": {
  "kernelspec": {
   "display_name": "Python 3",
   "language": "python",
   "name": "python3"
  },
  "language_info": {
   "codemirror_mode": {
    "name": "ipython",
    "version": 3
   },
   "file_extension": ".py",
   "mimetype": "text/x-python",
   "name": "python",
   "nbconvert_exporter": "python",
   "pygments_lexer": "ipython3",
   "version": "3.7.0"
  }
 },
 "nbformat": 4,
 "nbformat_minor": 2
}
