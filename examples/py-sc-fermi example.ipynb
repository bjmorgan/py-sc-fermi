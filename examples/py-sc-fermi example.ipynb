{
 "cells": [
  {
   "cell_type": "code",
   "execution_count": 1,
   "metadata": {},
   "outputs": [],
   "source": [
    "# py-sc-fermi\n",
    "\n",
    "import timeit\n",
    "\n",
    "start = timeit.default_timer()\n",
    "\n",
    "from py_sc_fermi.defect_system import DefectSystem\n",
    "from py_sc_fermi.defect_species import DefectSpecies\n",
    "from py_sc_fermi.inputs import inputs_from_files\n",
    "\n",
    "import numpy as np"
   ]
  },
  {
   "cell_type": "code",
   "execution_count": 2,
   "metadata": {},
   "outputs": [
    {
     "name": "stdout",
     "output_type": "stream",
     "text": [
      "Volume of cell: 57.78888409009906 A^3\n",
      "Found non-spin polarised system...\n",
      "Number of electrons in system: 18\n",
      "Energy gap of system: 0.8084 eV\n",
      "Temperature: 100.0 K\n",
      "Number of defect species: 2\n"
     ]
    }
   ],
   "source": [
    "example_dir = 'example_inputs'\n",
    "\n",
    "unitcell_filename = f'{example_dir}/unitcell.dat'\n",
    "totdos_filename = f'{example_dir}/totdos.dat'\n",
    "input_fermi_filename = f'{example_dir}/input-fermi.dat'\n",
    "\n",
    "inputs = inputs_from_files(unitcell_filename=unitcell_filename, \n",
    "                           input_fermi_filename=input_fermi_filename, \n",
    "                           totdos_filename=totdos_filename)"
   ]
  },
  {
   "cell_type": "code",
   "execution_count": 3,
   "metadata": {},
   "outputs": [
    {
     "name": "stdout",
     "output_type": "stream",
     "text": [
      "DefectSystem\n",
      "  nelect: 18 e\n",
      "  egap:   0.8084 eV\n",
      "  volume: 57.78888409009906 A^3\n",
      "  temperature: 100.0 K\n",
      "\n",
      "Contains defect species:\n",
      "\n",
      "V_Ga, nsites=1\n",
      "  q=+0.0, e=2.4451, deg=1\n",
      "  q=-1.0, e=0.0265, deg=1\n",
      "  q=-2.0, e=2.3469, deg=1\n",
      "  q=-3.0, e=2.7146, deg=1\n",
      "\n",
      "Ga_Sb, nsites=1\n",
      "  q=+0.0, e=2.2649, deg=1\n",
      "  q=-1.0, e=2.0937, deg=1\n",
      "  q=-2.0, e=2.2527, deg=1\n",
      "\n",
      "SC Fermi level :      -0.027501064253249576  (eV)\n",
      "\n",
      "Concentrations:\n",
      "n (electrons)  : 2.585422888323457e-24 cm^-3\n",
      "p (holes)      : 3.2856773709964726e+19 cm^-3\n",
      "V_Ga      : 3.2856773282043056e+19 cm^-3\n",
      "Ga_Sb      : 2.159971485632336e-85 cm^-3\n",
      "\n",
      "Breakdown of concentrations for each defect charge state:\n",
      "---------------------------------------------------------\n",
      "V_Ga      : Charge Concentration(cm^-3) Total\n",
      "           : 0.0 1.024893014293496e-101 0.00\n",
      "           : -1.0 3.2856773282043056e+19 100.00\n",
      "           : -2.0 1.540823795758212e-99 0.00\n",
      "           : -3.0 1.8643114184002793e-119 0.00\n",
      "---------------------------------------------------------\n",
      "Ga_Sb      : Charge Concentration(cm^-3) Total\n",
      "           : 0.0 1.2369397905893304e-92 0.00\n",
      "           : -1.0 2.1599713610769296e-85 100.00\n",
      "           : -2.0 8.614273625740637e-95 0.00\n"
     ]
    },
    {
     "name": "stderr",
     "output_type": "stream",
     "text": [
      "/Users/bjm42/.pyenv/versions/3.7.0/lib/python3.7/site-packages/scipy/optimize/_minimize.py:763: RuntimeWarning: Method 'bounded' does not support relative tolerance in x; defaulting to absolute tolerance.\n",
      "  \"defaulting to absolute tolerance.\", RuntimeWarning)\n",
      "/Users/bjm42/source/py-sc-fermi/py_sc_fermi/defect_system.py:127: RuntimeWarning: overflow encountered in exp\n",
      "  return dos / (1.0 + np.exp((e_fermi - edos)/kT))\n",
      "/Users/bjm42/source/py-sc-fermi/py_sc_fermi/defect_system.py:130: RuntimeWarning: overflow encountered in exp\n",
      "  return dos / (1.0 + np.exp((edos - e_fermi)/kT))\n",
      "/Users/bjm42/source/py-sc-fermi/py_sc_fermi/defect_charge_state.py:18: RuntimeWarning: overflow encountered in exp\n",
      "  return nsite * self.deg * np.exp(expfac)\n"
     ]
    }
   ],
   "source": [
    "defect_system = DefectSystem( defect_species=inputs['defect_species'],\n",
    "                              volume=inputs['volume'],\n",
    "                              nelect=inputs['nelect'],\n",
    "                              edos=inputs['edos'],\n",
    "                              dos=inputs['dos'],\n",
    "                              egap=inputs['egap'], \n",
    "                              temperature=inputs['temperature'] )\n",
    "\n",
    "print(defect_system)\n",
    "\n",
    "defect_system.report()"
   ]
  },
  {
   "cell_type": "code",
   "execution_count": null,
   "metadata": {},
   "outputs": [],
   "source": []
  }
 ],
 "metadata": {
  "kernelspec": {
   "display_name": "Python 3",
   "language": "python",
   "name": "python3"
  },
  "language_info": {
   "codemirror_mode": {
    "name": "ipython",
    "version": 3
   },
   "file_extension": ".py",
   "mimetype": "text/x-python",
   "name": "python",
   "nbconvert_exporter": "python",
   "pygments_lexer": "ipython3",
   "version": "3.7.0"
  }
 },
 "nbformat": 4,
 "nbformat_minor": 2
}
