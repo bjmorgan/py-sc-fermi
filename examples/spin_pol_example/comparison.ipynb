{
 "cells": [
  {
   "cell_type": "code",
   "execution_count": 1,
   "metadata": {},
   "outputs": [
    {
     "name": "stdout",
     "output_type": "stream",
     "text": [
      "**************************************************************\n",
      "\n",
      "   SSSS    CCCC      FFFFFF  EEEEEE   RRRR   MM     MM  IIIII\n",
      "  SS   S  CC   C     FF      EE      RR   R  MMM   MMM    I\n",
      "  SS      CC         FF      EE      RR  R   M MM MM M    I\n",
      "   SSSS   CC     --- FFFFFF  EEEEEE  RRRR    M  MMM  M    I\n",
      "      SS  CC         FF      EE      R   R   M   M   M    I\n",
      "  S   SS  CC   C     FF      EE      R   RR  M   M   M    I\n",
      "   SSSS    CCCC      FF      EEEEEE  R   RR  M   M   M  IIIII\n",
      "\n",
      "Energies in eV, temperature in Kelvin, DOS in states/unit cell\n",
      "\n",
      "------\n",
      "j.buckeridge@ucl.ac.uk 2018\n",
      "**************************************************************\n",
      "\n",
      "ERROR: unitcell.dat (unit cell for which DOS determined) is needed!!\n",
      "...but found a POSCAR! Will use that instead...\n",
      "(Should be cell for which DOS was determined!)\n",
      " \n",
      "Volume of cell:    1056.622886 A^3\n",
      " \n",
      "Found spin polarised system...\n",
      " \n",
      "Number of electrons in system:     544.000000\n",
      "         Energy gap of system:       5.903400 eV\n",
      "                 Temperature :    1500.000000 K\n",
      "     Number of defect species:    14\n",
      " \n",
      "Defects found:\n",
      "Name  # charge states  # sites in unit cell\n",
      "v_O                 3                     3\n",
      "v_Li                2                     3\n",
      "v_La                1                     2\n",
      "v_Zr                1                     1\n",
      "Li_i                2                     1\n",
      "Zr_i                5                     1\n",
      "O_i                 2                     1\n",
      "La_Zr               2                     1\n",
      "Zr_La               2                     2\n",
      "Zr_Li               4                     2\n",
      "Zr_Li_tet           4                     1\n",
      "Li_Zr               4                     1\n",
      "Li_La               3                     1\n",
      "La_Li               3                     1\n",
      " \n",
      "Integration of DOS up to Fermi level:     542.862436\n",
      "Renormalised integrated DOS         :     544.000000\n",
      " \n",
      "Solution found!\n",
      " \n",
      "Condition (n + acceptors) - (p + donors):   0.3835156414122E+007  cm^-3\n",
      " \n",
      "Results:\n",
      "--------\n",
      "SC Fermi level :       3.3787971705544  (eV)\n",
      " \n",
      "Concentrations:\n",
      "n (electrons)  :   0.4855791304307E+013  cm^-3\n",
      "p (holes)      :   0.4441103869663E+011  cm^-3\n",
      "v_O            :   0.8628866258059E+014  cm^-3\n",
      "v_Li           :   0.3163804998238E+020  cm^-3\n",
      "v_La           :   0.2246047236252E+012  cm^-3\n",
      "v_Zr           :   0.1586148893714E+006  cm^-3\n",
      "Li_i           :   0.3163815152063E+020  cm^-3\n",
      "Zr_i           :   0.1392314136383E+010  cm^-3\n",
      "O_i            :   0.1048116577329E+006  cm^-3\n",
      "La_Zr          :   0.4508928359359E+015  cm^-3\n",
      "Zr_La          :   0.3057544454843E+016  cm^-3\n",
      "Zr_Li          :   0.2165531881728E+016  cm^-3\n",
      "Zr_Li_tet      :   0.1227921974212E+012  cm^-3\n",
      "Li_Zr          :   0.1660112152947E+016  cm^-3\n",
      "Li_La          :   0.2179535454057E+016  cm^-3\n",
      "La_Li          :   0.5135387067693E+012  cm^-3\n",
      " \n",
      "Breakdown of concentrations for each defect charge state:\n",
      "--------------------------------------------------------\n",
      "v_O            :   Charge   Concentration(cm^-3) % total\n",
      "               :     0.0     0.5297193349825E+010    0.01\n",
      "               :     1.0     0.3104961617346E+014   35.98\n",
      "               :     2.0     0.5523374921378E+014   64.01\n",
      "--------------------------------------------------------\n",
      "v_Li           :   Charge   Concentration(cm^-3) % total\n",
      "               :     0.0     0.1233096179425E+011    0.00\n",
      "               :    -1.0     0.3163804997005E+020  100.00\n",
      "--------------------------------------------------------\n",
      "v_La           :   Charge   Concentration(cm^-3) % total\n",
      "               :    -3.0     0.2246047236252E+012  100.00\n",
      "--------------------------------------------------------\n",
      "v_Zr           :   Charge   Concentration(cm^-3) % total\n",
      "               :    -4.0     0.1586148893714E+006  100.00\n",
      "--------------------------------------------------------\n",
      "Li_i           :   Charge   Concentration(cm^-3) % total\n",
      "               :     0.0     0.2432900890643E+013    0.00\n",
      "               :     1.0     0.3163814908773E+020  100.00\n",
      "--------------------------------------------------------\n",
      "Zr_i           :   Charge   Concentration(cm^-3) % total\n",
      "               :     0.0     0.1206292584825E-013    0.00\n",
      "               :     1.0     0.3546216970432E-008    0.00\n",
      "               :     2.0     0.1058064016107E+003    0.00\n",
      "               :     3.0     0.2267438699541E+007    0.16\n",
      "               :     4.0     0.1390046591877E+010   99.84\n",
      "--------------------------------------------------------\n",
      "O_i            :   Charge   Concentration(cm^-3) % total\n",
      "               :     0.0     0.1048116561546E+006  100.00\n",
      "               :    -1.0     0.1578253488869E-002    0.00\n",
      "--------------------------------------------------------\n",
      "La_Zr          :   Charge   Concentration(cm^-3) % total\n",
      "               :    -1.0     0.4508927957924E+015  100.00\n",
      "               :     0.0     0.4014353120621E+008    0.00\n",
      "--------------------------------------------------------\n",
      "Zr_La          :   Charge   Concentration(cm^-3) % total\n",
      "               :     0.0     0.2212063155593E+011    0.00\n",
      "               :     1.0     0.3057522334212E+016  100.00\n",
      "--------------------------------------------------------\n",
      "Zr_Li          :   Charge   Concentration(cm^-3) % total\n",
      "               :     0.0     0.1504226192654E+002    0.00\n",
      "               :     1.0     0.5463337219714E+007    0.00\n",
      "               :     2.0     0.2458661789552E+012    0.01\n",
      "               :     3.0     0.2165286010085E+016   99.99\n",
      "--------------------------------------------------------\n",
      "Zr_Li_tet      :   Charge   Concentration(cm^-3) % total\n",
      "               :     0.0     0.4751893977327E-002    0.00\n",
      "               :     1.0     0.4227600966142E+003    0.00\n",
      "               :     2.0     0.1227921969984E+012  100.00\n",
      "               :     3.0     0.3123275491748E-045    0.00\n",
      "--------------------------------------------------------\n",
      "Li_Zr          :   Charge   Concentration(cm^-3) % total\n",
      "               :     0.0     0.4790849044536E-010    0.00\n",
      "               :    -1.0     0.1053536460694E+001    0.00\n",
      "               :    -2.0     0.2209164432104E+009    0.00\n",
      "               :    -3.0     0.1660111932031E+016  100.00\n",
      "--------------------------------------------------------\n",
      "Li_La          :   Charge   Concentration(cm^-3) % total\n",
      "               :     0.0     0.2166383781495E-003    0.00\n",
      "               :    -1.0     0.4431411526367E+007    0.00\n",
      "               :    -2.0     0.2179535449626E+016  100.00\n",
      "--------------------------------------------------------\n",
      "La_Li          :   Charge   Concentration(cm^-3) % total\n",
      "               :     0.0     0.1813029068180E+001    0.00\n",
      "               :     1.0     0.3106070209534E+006    0.00\n",
      "               :     2.0     0.5135383961605E+012  100.00\n",
      "\n"
     ]
    }
   ],
   "source": [
    "# %%timeit\n",
    "import os\n",
    "sc_fermi_exec = '/Users/bjm42/source/sc-fermi/upload-sourceforge/sc-fermi'\n",
    "print(os.popen(sc_fermi_exec).read())"
   ]
  },
  {
   "cell_type": "code",
   "execution_count": 2,
   "metadata": {},
   "outputs": [
    {
     "name": "stdout",
     "output_type": "stream",
     "text": [
      "Found spin polarised system...\n",
      "Number of electrons in system: 544\n",
      "Energy gap of system: 5.9034 eV\n",
      "Temperature: 1500.0 K\n",
      "Number of defect species: 14\n",
      "Reading spin-polarised DOS\n",
      "DefectSystem\n",
      "  nelect: 544 e\n",
      "  egap:   5.9034 eV\n",
      "  volume: 1056.622886347127 A^3\n",
      "  temperature: 1500.0 K\n",
      "\n",
      "Contains defect species:\n",
      "\n",
      "v_O, nsites=3\n",
      "  q=+0.0, e=3.4909776500000653, deg=1\n",
      "  q=+1.0, e=-0.9197055099956716, deg=2\n",
      "  q=+2.0, e=-4.462551241629165, deg=1\n",
      "\n",
      "v_Li, nsites=3\n",
      "  q=+0.0, e=3.4713573800000104, deg=2\n",
      "  q=-1.0, e=3.960070890039487, deg=1\n",
      "\n",
      "v_La, nsites=2\n",
      "  q=-3.0, e=13.090599598259026, deg=1\n",
      "\n",
      "v_Zr, nsites=1\n",
      "  q=-4.0, e=18.21056016913296, deg=1\n",
      "\n",
      "Li_i, nsites=1\n",
      "  q=+0.0, e=2.6462461100000683, deg=2\n",
      "  q=+1.0, e=-2.939530639755103, deg=1\n",
      "\n",
      "Zr_i, nsites=1\n",
      "  q=+0.0, e=10.385774575000063, deg=1\n",
      "  q=+1.0, e=5.379429933940598, deg=1\n",
      "  q=+2.0, e=-1.1169920880750699, deg=1\n",
      "  q=+3.0, e=-5.695246264535194, deg=2\n",
      "  q=+4.0, e=-9.99328844195141, deg=1\n",
      "\n",
      "O_i, nsites=1\n",
      "  q=+0.0, e=4.748925799999977, deg=1\n",
      "  q=-1.0, e=10.455873548940515, deg=1\n",
      "\n",
      "La_Zr, nsites=1\n",
      "  q=-1.0, e=5.260431719335289, deg=1\n",
      "  q=+0.0, e=4.069676092499982, deg=2\n",
      "\n",
      "Zr_La, nsites=2\n",
      "  q=+0.0, e=3.3434076075000334, deg=2\n",
      "  q=+1.0, e=-1.6549871110062235, deg=1\n",
      "\n",
      "Zr_Li, nsites=2\n",
      "  q=+0.0, e=6.071948745000061, deg=2\n",
      "  q=+1.0, e=1.1278681586774453, deg=4\n",
      "  q=+2.0, e=-3.725480925474409, deg=2\n",
      "  q=+3.0, e=-8.367979924427654, deg=1\n",
      "\n",
      "Zr_Li_tet, nsites=1\n",
      "  q=+0.0, e=7.2033916050000535, deg=8\n",
      "  q=+1.0, e=2.2619473351765236, deg=4\n",
      "  q=+2.0, e=-3.725332696657206, deg=2\n",
      "  q=+3.0, e=9.6506533863739, deg=1\n",
      "\n",
      "Li_Zr, nsites=1\n",
      "  q=+0.0, e=9.31460722500007, deg=1\n",
      "  q=-1.0, e=9.794411302829486, deg=4\n",
      "  q=-2.0, e=10.606840105206594, deg=2\n",
      "  q=-3.0, e=11.849547004353685, deg=1\n",
      "\n",
      "Li_La, nsites=1\n",
      "  q=+0.0, e=7.333766942500067, deg=1\n",
      "  q=-1.0, e=7.643733117032005, deg=1\n",
      "  q=-2.0, e=8.43556176739255, deg=1\n",
      "\n",
      "La_Li, nsites=1\n",
      "  q=+0.0, e=6.166253117500044, deg=1\n",
      "  q=+1.0, e=1.2297051225011808, deg=1\n",
      "  q=+2.0, e=-3.9998784667378344, deg=1\n",
      "\n"
     ]
    },
    {
     "name": "stderr",
     "output_type": "stream",
     "text": [
      "/Users/bjm42/.pyenv/versions/3.7.0/lib/python3.7/site-packages/scipy/optimize/_minimize.py:763: RuntimeWarning: Method 'bounded' does not support relative tolerance in x; defaulting to absolute tolerance.\n",
      "  \"defaulting to absolute tolerance.\", RuntimeWarning)\n",
      "/Users/bjm42/source/py-sc-fermi/py_sc_fermi/defect_charge_state.py:79: RuntimeWarning: overflow encountered in exp\n",
      "  return self.degeneracy * np.exp(expfac)\n",
      "/Users/bjm42/.pyenv/versions/3.7.0/lib/python3.7/site-packages/scipy/optimize/optimize.py:1762: RuntimeWarning: invalid value encountered in double_scalars\n",
      "  p = (xf - fulc) * q - (xf - nfc) * r\n",
      "/Users/bjm42/.pyenv/versions/3.7.0/lib/python3.7/site-packages/scipy/optimize/optimize.py:1763: RuntimeWarning: invalid value encountered in double_scalars\n",
      "  q = 2.0 * (q - r)\n"
     ]
    },
    {
     "data": {
      "text/plain": [
       "3.3787971647280033"
      ]
     },
     "execution_count": 2,
     "metadata": {},
     "output_type": "execute_result"
    }
   ],
   "source": [
    "# %%timeit\n",
    "\n",
    "from pymatgen.io.vasp import Poscar\n",
    "from py_sc_fermi.inputs import read_input_data, read_dos_data\n",
    "from py_sc_fermi.defect_system import DefectSystem\n",
    "from py_sc_fermi.dos import DOS\n",
    "\n",
    "volume = Poscar.from_file('POSCAR').structure.volume\n",
    "input = read_input_data(filename='./input-fermi.dat')\n",
    "dos = read_dos_data('./totdos.dat', nelect=input['nelect'], egap=input['egap'])\n",
    "ds = DefectSystem(defect_species=input['defect_species'],\n",
    "                  dos=dos, \n",
    "                  temperature=input['temperature'], \n",
    "                  volume=volume)\n",
    "print(ds)\n",
    "ds.get_sc_fermi(verbose=False)\n"
   ]
  },
  {
   "cell_type": "code",
   "execution_count": 3,
   "metadata": {},
   "outputs": [
    {
     "data": {
      "text/plain": [
       "3.3787971647280033"
      ]
     },
     "execution_count": 3,
     "metadata": {},
     "output_type": "execute_result"
    }
   ],
   "source": [
    "# %%timeit\n",
    "ds.get_sc_fermi(verbose=False, emin=0.0)"
   ]
  },
  {
   "cell_type": "code",
   "execution_count": 4,
   "metadata": {},
   "outputs": [
    {
     "name": "stdout",
     "output_type": "stream",
     "text": [
      "SC Fermi level :      3.3787971647280033  (eV)\n",
      "\n",
      "Concentrations:\n",
      "n (electrons)  : 4855791085431.833 cm^-3\n",
      "p (holes)      : 44411040698.460075 cm^-3\n",
      "v_O            : 86288668959498.0 cm^-3\n",
      "v_Li           : 3.1638048556286865e+19 cm^-3\n",
      "v_La           : 224604693252.8895 cm^-3\n",
      "v_Zr           : 158614.86077308748 cm^-3\n",
      "Li_i           : 3.1638152946724344e+19 cm^-3\n",
      "Zr_i           : 1392314387.3155808 cm^-3\n",
      "O_i            : 104811.65773286522 cm^-3\n",
      "La_Zr          : 450892815611874.5 cm^-3\n",
      "Zr_La          : 3057544592661621.0 cm^-3\n",
      "Zr_Li          : 2165532174551535.2 cm^-3\n",
      "Zr_Li_tet      : 122792208490.94511 cm^-3\n",
      "Li_Zr          : 1660111928457754.5 cm^-3\n",
      "Li_La          : 2179535257571238.0 cm^-3\n",
      "La_Li          : 513538753064.95685 cm^-3\n",
      "\n",
      "Breakdown of concentrations for each defect charge state:\n",
      "---------------------------------------------------------\n",
      "v_O        : Charge Concentration(cm^-3) Total\n",
      "           :  0.0  5.297193e+09          0.01 \n",
      "           :  1.0  3.104962e+13          35.98 \n",
      "           :  2.0  5.523375e+13          64.01 \n",
      "---------------------------------------------------------\n",
      "v_Li       : Charge Concentration(cm^-3) Total\n",
      "           :  0.0  1.233096e+10          0.00 \n",
      "           : -1.0  3.163805e+19          100.00 \n",
      "---------------------------------------------------------\n",
      "v_La       : Charge Concentration(cm^-3) Total\n",
      "           : -3.0  2.246047e+11          100.00 \n",
      "---------------------------------------------------------\n",
      "v_Zr       : Charge Concentration(cm^-3) Total\n",
      "           : -4.0  1.586149e+05          100.00 \n",
      "---------------------------------------------------------\n",
      "Li_i       : Charge Concentration(cm^-3) Total\n",
      "           :  0.0  2.432901e+12          0.00 \n",
      "           :  1.0  3.163815e+19          100.00 \n",
      "---------------------------------------------------------\n",
      "Zr_i       : Charge Concentration(cm^-3) Total\n",
      "           :  0.0  1.206293e-14          0.00 \n",
      "           :  1.0  3.546217e-09          0.00 \n",
      "           :  2.0  1.058064e+02          0.00 \n",
      "           :  3.0  2.267439e+06          0.16 \n",
      "           :  4.0  1.390047e+09          99.84 \n",
      "---------------------------------------------------------\n",
      "O_i        : Charge Concentration(cm^-3) Total\n",
      "           :  0.0  1.048117e+05          100.00 \n",
      "           : -1.0  1.578253e-03          0.00 \n",
      "---------------------------------------------------------\n",
      "La_Zr      : Charge Concentration(cm^-3) Total\n",
      "           : -1.0  4.508928e+14          100.00 \n",
      "           :  0.0  4.014353e+07          0.00 \n",
      "---------------------------------------------------------\n",
      "Zr_La      : Charge Concentration(cm^-3) Total\n",
      "           :  0.0  2.212063e+10          0.00 \n",
      "           :  1.0  3.057522e+15          100.00 \n",
      "---------------------------------------------------------\n",
      "Zr_Li      : Charge Concentration(cm^-3) Total\n",
      "           :  0.0  1.504226e+01          0.00 \n",
      "           :  1.0  5.463337e+06          0.00 \n",
      "           :  2.0  2.458662e+11          0.01 \n",
      "           :  3.0  2.165286e+15          99.99 \n",
      "---------------------------------------------------------\n",
      "Zr_Li_tet  : Charge Concentration(cm^-3) Total\n",
      "           :  0.0  4.751894e-03          0.00 \n",
      "           :  1.0  4.227601e+02          0.00 \n",
      "           :  2.0  1.227922e+11          100.00 \n",
      "           :  3.0  3.123276e-46          0.00 \n",
      "---------------------------------------------------------\n",
      "Li_Zr      : Charge Concentration(cm^-3) Total\n",
      "           :  0.0  4.790849e-11          0.00 \n",
      "           : -1.0  1.053536e+00          0.00 \n",
      "           : -2.0  2.209164e+08          0.00 \n",
      "           : -3.0  1.660112e+15          100.00 \n",
      "---------------------------------------------------------\n",
      "Li_La      : Charge Concentration(cm^-3) Total\n",
      "           :  0.0  2.166384e-04          0.00 \n",
      "           : -1.0  4.431411e+06          0.00 \n",
      "           : -2.0  2.179535e+15          100.00 \n",
      "---------------------------------------------------------\n",
      "La_Li      : Charge Concentration(cm^-3) Total\n",
      "           :  0.0  1.813029e+00          0.00 \n",
      "           :  1.0  3.106070e+05          0.00 \n",
      "           :  2.0  5.135384e+11          100.00 \n"
     ]
    }
   ],
   "source": [
    "ds.report()"
   ]
  },
  {
   "cell_type": "code",
   "execution_count": 5,
   "metadata": {},
   "outputs": [],
   "source": [
    "c_v_Li = ds.defect_species_by_name('v_Li').get_concentration(e_fermi=3.378797377976006, temperature=ds.temperature)"
   ]
  },
  {
   "cell_type": "code",
   "execution_count": 6,
   "metadata": {},
   "outputs": [],
   "source": [
    "c_Li_i = ds.defect_species_by_name('Li_i').get_concentration(e_fermi=3.378797377976006, temperature=ds.temperature)"
   ]
  },
  {
   "cell_type": "code",
   "execution_count": 7,
   "metadata": {},
   "outputs": [
    {
     "data": {
      "text/plain": [
       "-9.020562075079397e-17"
      ]
     },
     "execution_count": 7,
     "metadata": {},
     "output_type": "execute_result"
    }
   ],
   "source": [
    "(c_v_Li - c_Li_i)"
   ]
  },
  {
   "cell_type": "code",
   "execution_count": 8,
   "metadata": {},
   "outputs": [
    {
     "name": "stdout",
     "output_type": "stream",
     "text": [
      "     fun: 3.0159137062724106e-09\n",
      " message: 'Solution found.'\n",
      "    nfev: 39\n",
      "  status: 0\n",
      " success: True\n",
      "       x: 3.3787971647280033\n"
     ]
    },
    {
     "data": {
      "text/plain": [
       "3.3787971647280033"
      ]
     },
     "execution_count": 8,
     "metadata": {},
     "output_type": "execute_result"
    }
   ],
   "source": [
    "ds.get_sc_fermi()"
   ]
  },
  {
   "cell_type": "code",
   "execution_count": 9,
   "metadata": {},
   "outputs": [
    {
     "name": "stderr",
     "output_type": "stream",
     "text": [
      "/Users/bjm42/source/py-sc-fermi/py_sc_fermi/dos.py:89: RuntimeWarning: overflow encountered in exp\n",
      "  return dos / (1.0 + np.exp((edos - e_fermi)/kT))\n"
     ]
    },
    {
     "data": {
      "text/plain": [
       "3.096792116700261"
      ]
     },
     "execution_count": 9,
     "metadata": {},
     "output_type": "execute_result"
    }
   ],
   "source": [
    "ds.get_constrained_sc_fermi(constraint={'v_Li': +1, 'Li_i': -1}, total=-0.3)"
   ]
  },
  {
   "cell_type": "code",
   "execution_count": null,
   "metadata": {},
   "outputs": [],
   "source": []
  }
 ],
 "metadata": {
  "kernelspec": {
   "display_name": "Python 3",
   "language": "python",
   "name": "python3"
  },
  "language_info": {
   "codemirror_mode": {
    "name": "ipython",
    "version": 3
   },
   "file_extension": ".py",
   "mimetype": "text/x-python",
   "name": "python",
   "nbconvert_exporter": "python",
   "pygments_lexer": "ipython3",
   "version": "3.7.0"
  }
 },
 "nbformat": 4,
 "nbformat_minor": 2
}
