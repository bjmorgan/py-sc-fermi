{
 "cells": [
  {
   "cell_type": "code",
   "execution_count": 2,
   "metadata": {
    "scrolled": false
   },
   "outputs": [
    {
     "name": "stdout",
     "output_type": "stream",
     "text": [
      "**************************************************************\n",
      "\n",
      "   SSSS    CCCC      FFFFFF  EEEEEE   RRRR   MM     MM  IIIII\n",
      "  SS   S  CC   C     FF      EE      RR   R  MMM   MMM    I\n",
      "  SS      CC         FF      EE      RR  R   M MM MM M    I\n",
      "   SSSS   CC     --- FFFFFF  EEEEEE  RRRR    M  MMM  M    I\n",
      "      SS  CC         FF      EE      R   R   M   M   M    I\n",
      "  S   SS  CC   C     FF      EE      R   RR  M   M   M    I\n",
      "   SSSS    CCCC      FF      EEEEEE  R   RR  M   M   M  IIIII\n",
      "\n",
      "Energies in eV, temperature in Kelvin, DOS in states/unit cell\n",
      "\n",
      "------\n",
      "j.buckeridge@ucl.ac.uk 2018\n",
      "**************************************************************\n",
      "\n",
      "unitcell.dat found...\n",
      "(Should be cell for which DOS was determined!)\n",
      " \n",
      "Volume of cell:  ****************** A^3\n",
      " \n",
      "Found spin polarised system...\n",
      " \n",
      "Number of electrons in system:     544.000000\n",
      "         Energy gap of system:       5.904000 eV\n",
      "                 Temperature :     500.000000 K\n",
      "     Number of defect species:     2\n",
      " \n",
      "Defects found:\n",
      "Name  # charge states  # sites in unit cell\n",
      "v_Li                2                     3\n",
      "Li_i                2                     1\n",
      " \n",
      "Integration of DOS up to Fermi level:   542.862403995001841\n",
      "Renormalised integrated DOS         :   544.000000000000114\n",
      " \n",
      "Solution found!\n",
      " \n",
      "Condition (n + acceptors) - (p + donors):   0.4149297343109E+004  cm^-3\n",
      " \n",
      "Results:\n",
      "--------\n",
      "SC Fermi level :       3.1259335170592  (eV)\n",
      " \n",
      "Concentrations:\n",
      "n (electrons)  :   0.5529780157648E-007  cm^-3\n",
      "p (holes)      :   0.7939617197876E-010  cm^-3\n",
      "v_Li           :   0.1184023456892E+017  cm^-3\n",
      "Li_i           :   0.1184023456892E+017  cm^-3\n",
      " \n",
      "Breakdown of concentrations for each defect charge state:\n",
      "--------------------------------------------------------\n",
      "v_Li           :   Charge   Concentration(cm^-3) % total\n",
      "               :     0.0     0.6143160700607E-010    0.00\n",
      "               :    -1.0     0.1184023456892E+017  100.00\n",
      "--------------------------------------------------------\n",
      "Li_i           :   Charge   Concentration(cm^-3) % total\n",
      "               :     0.0     0.3804431712470E-008    0.00\n",
      "               :     1.0     0.1184023456892E+017  100.00\n",
      "\n"
     ]
    }
   ],
   "source": [
    "# %%timeit\n",
    "import os\n",
    "sc_fermi_exec = '/Users/bjm42/source/sc-fermi/upload-sourceforge/sc-fermi'\n",
    "print(os.popen(sc_fermi_exec).read())"
   ]
  },
  {
   "cell_type": "code",
   "execution_count": 4,
   "metadata": {},
   "outputs": [
    {
     "name": "stdout",
     "output_type": "stream",
     "text": [
      "Found spin polarised system...\n",
      "Number of electrons in system: 544\n",
      "Energy gap of system: 5.904 eV\n",
      "Temperature: 500.0 K\n",
      "Number of defect species: 2\n",
      "Volume of cell: 1056.622886347127 A^3\n",
      "Reading spin-polarised DOS\n",
      "DefectSystem\n",
      "  nelect: 544 e\n",
      "  egap:   5.904 eV\n",
      "  volume: 1056.622886347127 A^3\n",
      "  temperature: 500.0 K\n",
      "\n",
      "Contains defect species:\n",
      "\n",
      "v_Li, nsites=3\n",
      "  q=+0.0, e=3.17135738000001, deg=2\n",
      "  q=-1.0, e=3.659671988940586, deg=1\n",
      "\n",
      "Li_i, nsites=1\n",
      "  q=+0.0, e=2.9462461100000685, deg=2\n",
      "  q=+1.0, e=-2.6395306397551033, deg=1\n",
      "\n"
     ]
    },
    {
     "name": "stderr",
     "output_type": "stream",
     "text": [
      "/Users/bjm42/.pyenv/versions/3.7.0/lib/python3.7/site-packages/scipy/optimize/_minimize.py:760: RuntimeWarning: Method 'bounded' does not support relative tolerance in x; defaulting to absolute tolerance.\n",
      "  \"defaulting to absolute tolerance.\", RuntimeWarning)\n",
      "/Users/bjm42/source/py-sc-fermi/py_sc_fermi/dos.py:89: RuntimeWarning: overflow encountered in exp\n",
      "  return dos / (1.0 + np.exp((edos - e_fermi)/kT))\n",
      "/Users/bjm42/source/py-sc-fermi/py_sc_fermi/dos.py:86: RuntimeWarning: overflow encountered in exp\n",
      "  return dos / (1.0 + np.exp((e_fermi - edos)/kT))\n"
     ]
    },
    {
     "data": {
      "text/plain": [
       "3.125933523341676"
      ]
     },
     "execution_count": 4,
     "metadata": {},
     "output_type": "execute_result"
    }
   ],
   "source": [
    "# %%timeit\n",
    "\n",
    "from pymatgen.io.vasp import Poscar\n",
    "from py_sc_fermi.inputs import read_input_data, read_dos_data, read_unitcell_data\n",
    "from py_sc_fermi.defect_system import DefectSystem\n",
    "from py_sc_fermi.dos import DOS\n",
    "\n",
    "# volume = Poscar.from_file('POSCAR').structure.volume\n",
    "inputs = read_input_data(filename='./input-fermi.dat')\n",
    "volume = read_unitcell_data(filename='./unitcell.dat')\n",
    "dos = read_dos_data('./totdos.dat', nelect=inputs['nelect'], egap=inputs['egap'])\n",
    "ds = DefectSystem(defect_species=inputs['defect_species'],\n",
    "                  dos=dos, \n",
    "                  temperature=inputs['temperature'], \n",
    "                  volume=volume,\n",
    "                  spin_pol=True)\n",
    "print(ds)\n",
    "ds.get_sc_fermi(verbose=False)\n"
   ]
  },
  {
   "cell_type": "code",
   "execution_count": 5,
   "metadata": {},
   "outputs": [
    {
     "data": {
      "text/plain": [
       "3.125933523341676"
      ]
     },
     "execution_count": 5,
     "metadata": {},
     "output_type": "execute_result"
    }
   ],
   "source": [
    "# %%timeit\n",
    "ds.get_sc_fermi(verbose=False, emin=0.0)"
   ]
  },
  {
   "cell_type": "code",
   "execution_count": null,
   "metadata": {},
   "outputs": [],
   "source": [
    "ds.get_sc_fermi_new(verbose=False, emin=0.0)"
   ]
  },
  {
   "cell_type": "code",
   "execution_count": 6,
   "metadata": {},
   "outputs": [
    {
     "name": "stdout",
     "output_type": "stream",
     "text": [
      "SC Fermi level :      3.125933523341676  (eV)\n",
      "\n",
      "Concentrations:\n",
      "n (electrons)  : 5.5297809639480744e-08 cm^-3\n",
      "p (holes)      : 7.939616040196793e-11 cm^-3\n",
      "v_Li           : 1.1840236295350706e+16 cm^-3\n",
      "Li_i           : 1.1840232842486274e+16 cm^-3\n",
      "\n",
      "Breakdown of concentrations for each defect charge state:\n",
      "---------------------------------------------------------\n",
      "v_Li       : Charge Concentration(cm^-3) Total\n",
      "           :  0.0  6.143161e-11          0.00 \n",
      "           : -1.0  1.184024e+16          100.00 \n",
      "---------------------------------------------------------\n",
      "Li_i       : Charge Concentration(cm^-3) Total\n",
      "           :  0.0  3.804432e-09          0.00 \n",
      "           :  1.0  1.184023e+16          100.00 \n"
     ]
    }
   ],
   "source": [
    "ds.report()"
   ]
  },
  {
   "cell_type": "code",
   "execution_count": null,
   "metadata": {},
   "outputs": [],
   "source": [
    "c_v_Li = ds.defect_species_by_name('v_Li').get_concentration(e_fermi=3.378797377976006, temperature=ds.temperature)"
   ]
  },
  {
   "cell_type": "code",
   "execution_count": null,
   "metadata": {},
   "outputs": [],
   "source": [
    "c_Li_i = ds.defect_species_by_name('Li_i').get_concentration(e_fermi=3.378797377976006, temperature=ds.temperature)"
   ]
  },
  {
   "cell_type": "code",
   "execution_count": null,
   "metadata": {},
   "outputs": [],
   "source": [
    "(c_v_Li - c_Li_i)"
   ]
  },
  {
   "cell_type": "code",
   "execution_count": null,
   "metadata": {},
   "outputs": [],
   "source": [
    "ds.get_sc_fermi()"
   ]
  },
  {
   "cell_type": "code",
   "execution_count": null,
   "metadata": {},
   "outputs": [],
   "source": [
    "ds.get_constrained_sc_fermi(constraint={'v_Li': +1, 'Li_i': -1}, total=-0.3)"
   ]
  },
  {
   "cell_type": "code",
   "execution_count": null,
   "metadata": {},
   "outputs": [],
   "source": []
  }
 ],
 "metadata": {
  "kernelspec": {
   "display_name": "Python 3",
   "language": "python",
   "name": "python3"
  },
  "language_info": {
   "codemirror_mode": {
    "name": "ipython",
    "version": 3
   },
   "file_extension": ".py",
   "mimetype": "text/x-python",
   "name": "python",
   "nbconvert_exporter": "python",
   "pygments_lexer": "ipython3",
   "version": "3.7.0"
  }
 },
 "nbformat": 4,
 "nbformat_minor": 2
}
