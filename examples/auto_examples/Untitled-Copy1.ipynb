{
 "cells": [
  {
   "cell_type": "code",
   "execution_count": 1,
   "metadata": {},
   "outputs": [
    {
     "name": "stdout",
     "output_type": "stream",
     "text": [
      "Found spin polarised system...\n",
      "Number of electrons in system: 544\n",
      "Energy gap of system: 5.904 eV\n",
      "Temperature: 300.0 K\n",
      "Number of defect species: 2\n",
      "Number of frozen defects: 2\n",
      "Number of frozen charge states: 34\n",
      "0.03351255752125435\n"
     ]
    }
   ],
   "source": [
    "from auto_functions import *\n",
    "import yaml\n",
    "from py_sc_fermi.inputs import inputs_from_files,read_input_data\n",
    "from pandas import DataFrame as df\n",
    "import pandas as pd\n",
    "from itertools import product\n",
    "from tqdm import tqdm\n",
    "import numpy as np\n",
    "from scipy.constants import physical_constants\n",
    "\n",
    "with open('automator_config.yaml', 'r') as stream:\n",
    "    try:\n",
    "        a = yaml.safe_load(stream)\n",
    "    except yaml.YAMLError as exc:\n",
    "        print(exc)\n",
    "\n",
    "defects = import_calculations_from_file('defects.yaml')\n",
    "elements = import_calculations_from_file('elements.yaml')\n",
    "interest = import_calculations_from_file('interest.yaml')\n",
    "        \n",
    "def make_all_defects(config_dict,chem_pots):\n",
    "    to_write = []\n",
    "    defs = []\n",
    "    for k,v in config_dict['defects'].items():\n",
    "        label = [i for i in config_dict['defects'][k][1:]]\n",
    "        to_calcs = [defects[i] for i in label]\n",
    "        out = make_defect(to_calcs, elements, interest['LLZO'], delta_mu=chem_pots, corr=config_dict['iccs'], sites=1)\n",
    "        out._nsites = config_dict['defects'][out.name][0]\n",
    "        #print(out)\n",
    "        defs.append(out)\n",
    "    return defs\n",
    "\n",
    "ex_grid = (pd.read_csv('ex_grid.dat', skiprows=10, sep='\\s+'))\n",
    "grid = (pd.read_csv('grid.dat', skiprows=10, sep='\\s+'))\n",
    "\n",
    "#print(b)\n",
    "print(read_input_data('input-fermi-frozen.dat',verbose=True,frozen=True,volume=1056.622886347127)['defect_species'][1]._fixed_concentration)"
   ]
  },
  {
   "cell_type": "code",
   "execution_count": 2,
   "metadata": {},
   "outputs": [
    {
     "name": "stdout",
     "output_type": "stream",
     "text": [
      "Volume of cell: 1056.622886347127 A^3\n",
      "Found spin polarised system...\n",
      "Number of electrons in system: 544\n",
      "Energy gap of system: 5.904 eV\n",
      "Temperature: 300.0 K\n",
      "Number of defect species: 2\n",
      "Number of frozen defects: 2\n",
      "Number of frozen charge states: 34\n",
      "Reading spin-polarised DOS\n"
     ]
    }
   ],
   "source": [
    "grid = (pd.read_csv('grid.dat', skiprows=10, sep='\\s+'))  # 'grid' refers to a stability region divded into a grid of approximatley 80 points\n",
    "ex_grid = (pd.read_csv('ex_grid.dat', skiprows=10, sep='\\s+'))\n",
    "\n",
    "unitcell_filename = 'unitcell.dat'\n",
    "totdos_filename = 'totdos.dat'\n",
    "input_fermi_filename = 'input-fermi-frozen.dat'\n",
    "\n",
    "inputs = inputs_from_files(unitcell_filename=unitcell_filename, \n",
    "                           input_fermi_filename=input_fermi_filename, \n",
    "                           totdos_filename=totdos_filename, frozen=True)\n",
    "\n",
    "# jixes = []\n",
    "# fixes = []\n",
    "# for i in tqdm(range(ex_grid.shape[0])):\n",
    "#     all_defects = make_all_defects(a,ex_grid.iloc[i].to_dict())\n",
    "#     defect_system_high_t = DefectSystem( defect_species=all_defects,\n",
    "#                                     volume=inputs['volume'],\n",
    "#                                     dos=inputs['dos'],\n",
    "#                                     temperature=1500,\n",
    "#                                     spin_pol=2)\n",
    "#     fix = defect_system_high_t.to_dict_per_site(decomposed=False)['v_Li']\n",
    "#     jix = defect_system_high_t.to_dict_per_site(decomposed=False)['Li_i']\n",
    "#     fixes.append(fix)\n",
    "#     jixes.append(jix)\n",
    "\n",
    "# constraint = (defect_system_high_t.to_dict()['v_Li']) - (defect_system_high_t.to_dict()['Li_i'])\n",
    "\n",
    "# defect_system_high_t.write_inputs('high_t_nothing_fixed.dat')\n",
    "# defect_system_high_t.report()\n",
    "# fix = defect_system_high_t.to_dict_per_site(decomposed=True)\n",
    "# defect_system_high_t.to_dict(decomposed=False)"
   ]
  },
  {
   "cell_type": "code",
   "execution_count": 3,
   "metadata": {},
   "outputs": [
    {
     "name": "stdout",
     "output_type": "stream",
     "text": [
      "SC Fermi level :      -27.577780507626215  (eV)\n",
      "\n",
      "Concentrations:\n",
      "n (electrons)  : 0.0 cm^-3\n",
      "p (holes)      : 4.76915363262079e+23 cm^-3\n",
      "v_Li           : 3.1657268286906753e+19 cm^-3\n",
      "Li_i           : 3.171666822125282e+19 cm^-3\n",
      "v_O            : 0.0 cm^-3\n",
      "O_i            : 0.0 cm^-3\n",
      "v_La           : 0.0 cm^-3\n",
      "v_Zr           : 0.0 cm^-3\n",
      "Zr_i           : 0.0 cm^-3\n",
      "Zr_Li_tet      : 0.0 cm^-3\n",
      "Zr_Li          : 0.0 cm^-3\n",
      "Zr_La          : 0.0 cm^-3\n",
      "La_Zr          : 0.0 cm^-3\n",
      "Li_La          : 0.0 cm^-3\n",
      "Li_Zr          : 0.0 cm^-3\n",
      "La_Li          : 0.0 cm^-3\n",
      "\n",
      "Breakdown of concentrations for each defect charge state:\n",
      "---------------------------------------------------------\n",
      "v_Li       : Charge Concentration(cm^-3) Total\n",
      "           :  0.0  3.165727e+19          100.00 \n",
      "           : -1.0  0.000000e+00          0.00 \n",
      "---------------------------------------------------------\n",
      "Li_i       : Charge Concentration(cm^-3) Total\n",
      "           :  0.0  0.000000e+00          0.00 \n",
      "           :  1.0    nan          nan \n",
      "---------------------------------------------------------\n",
      "v_O        : Zero total - cannot give breakdown\n",
      "---------------------------------------------------------\n",
      "O_i        : Zero total - cannot give breakdown\n",
      "---------------------------------------------------------\n",
      "v_La       : Zero total - cannot give breakdown\n",
      "---------------------------------------------------------\n",
      "v_Zr       : Zero total - cannot give breakdown\n",
      "---------------------------------------------------------\n",
      "Zr_i       : Zero total - cannot give breakdown\n",
      "---------------------------------------------------------\n",
      "Zr_Li_tet  : Zero total - cannot give breakdown\n",
      "---------------------------------------------------------\n",
      "Zr_Li      : Zero total - cannot give breakdown\n",
      "---------------------------------------------------------\n",
      "Zr_La      : Zero total - cannot give breakdown\n",
      "---------------------------------------------------------\n",
      "La_Zr      : Zero total - cannot give breakdown\n",
      "---------------------------------------------------------\n",
      "Li_La      : Zero total - cannot give breakdown\n",
      "---------------------------------------------------------\n",
      "Li_Zr      : Zero total - cannot give breakdown\n",
      "---------------------------------------------------------\n",
      "La_Li      : Zero total - cannot give breakdown\n"
     ]
    },
    {
     "name": "stderr",
     "output_type": "stream",
     "text": [
      "/home/alex/anaconda3/lib/python3.6/site-packages/scipy/optimize/_minimize.py:763: RuntimeWarning: Method 'bounded' does not support relative tolerance in x; defaulting to absolute tolerance.\n",
      "  \"defaulting to absolute tolerance.\", RuntimeWarning)\n",
      "/mnt/c/Users/Alex/Materials_work/new_fermi/py-sc-fermi/py_sc_fermi/dos.py:86: RuntimeWarning: overflow encountered in exp\n",
      "  return dos / (1.0 + np.exp((e_fermi - edos)/kT))\n",
      "/mnt/c/Users/Alex/Materials_work/new_fermi/py-sc-fermi/py_sc_fermi/dos.py:89: RuntimeWarning: overflow encountered in exp\n",
      "  return dos / (1.0 + np.exp((edos - e_fermi)/kT))\n",
      "/mnt/c/Users/Alex/Materials_work/new_fermi/py-sc-fermi/py_sc_fermi/defect_charge_state.py:79: RuntimeWarning: overflow encountered in exp\n",
      "  return self.degeneracy * np.exp(expfac)\n",
      "/mnt/c/Users/Alex/Materials_work/new_fermi/py-sc-fermi/py_sc_fermi/defect_species.py:221: RuntimeWarning: invalid value encountered in double_scalars\n",
      "  cs_concentrations[q] *= scaling\n"
     ]
    }
   ],
   "source": [
    "# grid = (pd.read_csv('grid.dat', skiprows=10, sep='\\s+'))  # 'grid' refers to a stability region divded into a grid of approximatley 80 points\n",
    "# ex_grid = (pd.read_csv('ex_grid.dat', skiprows=10, sep='\\s+'))\n",
    "\n",
    "defect_system_low_t = DefectSystem( defect_species=inputs['defect_species'],\n",
    "                                volume=inputs['volume'],\n",
    "                                dos=inputs['dos'],\n",
    "                                temperature=300,\n",
    "                                spin_pol=2)\n",
    "\n",
    "#constraint = (defect_system_unrelaxed.to_dict()['v_Li']) - (defect_system_unrelaxed.to_dict()['Li_i'])\n",
    "\n",
    "# defect_system_low_t.write_inputs('low_t_nothing_fixed.dat')\n",
    "# defect_system_low_t.report()\n",
    "# defect_system_low_t.to_dict()\n",
    "# np.argmax(np.array(jixes))\n",
    "# plt.plot(defect_system_high_t.get_transition_levels()['Li_i'][0][0:-1],defect_system_high_t.get_transition_levels()['Li_i'][1][0:-1])\n",
    "# plt.plot(defect_system_high_t.get_transition_levels()['v_Li'][0][1:],defect_system_high_t.get_transition_levels()['v_Li'][1][1:])\n",
    "# plt.xlim(0,5)\n",
    "# plt.ylim(0,1)\n",
    "\n",
    "# import numpy as np\n",
    "\n",
    "# a=defect_system_high_t.get_transition_levels()['Li_i'][0][0:-1]\n",
    "# b=defect_system_high_t.get_transition_levels()['Li_i'][1][0:-1]\n",
    "# c=defect_system_high_t.get_transition_levels()['v_Li'][0][1:]\n",
    "# d=defect_system_high_t.get_transition_levels()['v_Li'][1][1:]\n",
    "\n",
    "# def get_intersect(a1, a2, b1, b2):\n",
    "#     \"\"\" \n",
    "#     Returns the point of intersection of the lines passing through a2,a1 and b2,b1.\n",
    "#     a1: [x, y] a point on the first line\n",
    "#     a2: [x, y] another point on the first line\n",
    "#     b1: [x, y] a point on the second line\n",
    "#     b2: [x, y] another point on the second line\n",
    "#     \"\"\"\n",
    "#     s = np.vstack([a1,a2,b1,b2])        # s for stacked\n",
    "#     h = np.hstack((s, np.ones((4, 1)))) # h for homogeneous\n",
    "#     l1 = np.cross(h[0], h[1])           # get first line\n",
    "#     l2 = np.cross(h[2], h[3])           # get second line\n",
    "#     x, y, z = np.cross(l1, l2)          # point of intersection\n",
    "#     if z == 0:                          # lines are parallel\n",
    "#         return (float('inf'), float('inf'))\n",
    "#     return (x/z, y/z)\n",
    "\n",
    "# get_intersect((a[0],b[0]),(a[1],b[1]),(c[0],d[0]),(c[1],d[1]))\n",
    "defect_system_low_t.report()"
   ]
  },
  {
   "cell_type": "code",
   "execution_count": 4,
   "metadata": {},
   "outputs": [
    {
     "ename": "NameError",
     "evalue": "name 'all_defects' is not defined",
     "output_type": "error",
     "traceback": [
      "\u001b[0;31m---------------------------------------------------------------------------\u001b[0m",
      "\u001b[0;31mNameError\u001b[0m                                 Traceback (most recent call last)",
      "\u001b[0;32m<ipython-input-4-e2aa87a78ed4>\u001b[0m in \u001b[0;36m<module>\u001b[0;34m()\u001b[0m\n\u001b[1;32m      5\u001b[0m \u001b[0;34m\u001b[0m\u001b[0m\n\u001b[1;32m      6\u001b[0m \u001b[0mall_frozen_charge_states\u001b[0m \u001b[0;34m=\u001b[0m \u001b[0;34m{\u001b[0m\u001b[0;34m}\u001b[0m\u001b[0;34m\u001b[0m\u001b[0m\n\u001b[0;32m----> 7\u001b[0;31m \u001b[0;32mfor\u001b[0m \u001b[0mi\u001b[0m \u001b[0;32min\u001b[0m \u001b[0mall_defects\u001b[0m\u001b[0;34m:\u001b[0m\u001b[0;34m\u001b[0m\u001b[0m\n\u001b[0m\u001b[1;32m      8\u001b[0m    \u001b[0;31m# print(i)\u001b[0m\u001b[0;34m\u001b[0m\u001b[0;34m\u001b[0m\u001b[0m\n\u001b[1;32m      9\u001b[0m     \u001b[0mfrozen_charge_states\u001b[0m \u001b[0;34m=\u001b[0m \u001b[0;34m{\u001b[0m\u001b[0;34m}\u001b[0m\u001b[0;34m\u001b[0m\u001b[0m\n",
      "\u001b[0;31mNameError\u001b[0m: name 'all_defects' is not defined"
     ]
    }
   ],
   "source": [
    "from py_sc_fermi.defect_charge_state import DefectChargeState, FrozenDefectChargeState\n",
    "from py_sc_fermi.defect_system import DefectSystem\n",
    "from py_sc_fermi.defect_species import DefectSpecies\n",
    "from py_sc_fermi.inputs import inputs_from_files\n",
    "\n",
    "all_frozen_charge_states = {}\n",
    "for i in all_defects:\n",
    "   # print(i)\n",
    "    frozen_charge_states = {}\n",
    "    for j in i.charge_states:\n",
    "        \n",
    "        #c = i.charge_states[j].get_concentration(defect_system_high_t.get_sc_fermi(verbose=False), 1500)\n",
    "        c = fix[i.name][str(j)]\n",
    "        #print(c)\n",
    "        frozen_charge_state = FrozenDefectChargeState(charge= j , concentration=c) # \n",
    "        frozen_charge_states.update({j : frozen_charge_state})\n",
    "        #print(frozen_charge_state)\n",
    "    all_frozen_charge_states.update({i.name:frozen_charge_states})\n",
    "print(all_frozen_charge_states)\n",
    "for x in all_defects:\n",
    "     x._charge_states = None\n",
    "     x._charge_states = all_frozen_charge_states[x.name]\n",
    "print(all_defects)"
   ]
  },
  {
   "cell_type": "code",
   "execution_count": null,
   "metadata": {},
   "outputs": [],
   "source": []
  },
  {
   "cell_type": "code",
   "execution_count": 10,
   "metadata": {},
   "outputs": [
    {
     "name": "stdout",
     "output_type": "stream",
     "text": [
      "2\n",
      "('v_O', q=+2, [c]=3.688667460528576e-08)\n",
      "('v_O', q=+1, [c]=1.4907954796632047e-09)\n",
      "('v_O', q=+0, [c]=1.826745627698636e-14)\n",
      "('O_i', q=+0, [c]=3.3932617257060205e-14)\n",
      "('O_i', q=-1, [c]=3.673623063253335e-23)\n",
      "('v_La', q=-3, [c]=5.966177511814697e-10)\n",
      "('v_Zr', q=-4, [c]=6.687605224169614e-16)\n",
      "('Zr_i', q=+0, [c]=8.535053507367367e-41)\n",
      "('Zr_i', q=+1, [c]=3.489866660481988e-34)\n",
      "('Zr_i', q=+2, [c]=1.448256261931797e-22)\n",
      "('Zr_i', q=+3, [c]=4.3167705507807965e-17)\n",
      "('Zr_i', q=+4, [c]=3.680804133883837e-13)\n",
      "('Zr_Li_tet', q=+0, [c]=4.6662581695725285e-28)\n",
      "('Zr_Li_tet', q=+1, [c]=5.774121919967984e-22)\n",
      "('Zr_Li_tet', q=+2, [c]=2.3326666014294207e-12)\n",
      "('Zr_Li_tet', q=+3, [c]=8.252435430502018e-68)\n",
      "('Zr_Li', q=+0, [c]=1.4771179226318075e-24)\n",
      "('Zr_Li', q=+1, [c]=7.461909354542557e-18)\n",
      "('Zr_Li', q=+2, [c]=4.67068623324088e-12)\n",
      "('Zr_Li', q=+3, [c]=5.721199757757566e-07)\n",
      "('Zr_La', q=+0, [c]=1.058712899586293e-12)\n",
      "('Zr_La', q=+1, [c]=2.0353554330620753e-06)\n",
      "('La_Zr', q=+0, [c]=1.8728582652956192e-12)\n",
      "('La_Zr', q=-1, [c]=1.512420989039691e-06)\n",
      "('Li_La', q=+0, [c]=2.2313313436890666e-22)\n",
      "('Li_La', q=-1, [c]=3.28156350477283e-13)\n",
      "('Li_La', q=-2, [c]=1.1604133781640662e-05)\n",
      "('Li_Zr', q=+0, [c]=5.446913672577008e-28)\n",
      "('Li_Zr', q=-1, [c]=8.611873373161249e-19)\n",
      "('Li_Zr', q=-2, [c]=1.2983332141034192e-11)\n",
      "('Li_Zr', q=-3, [c]=7.014642720999807e-06)\n",
      "('La_Li', q=+0, [c]=1.1791454341035507e-23)\n",
      "('La_Li', q=+1, [c]=2.8097249953567455e-17)\n",
      "('La_Li', q=+2, [c]=6.461233071314188e-10)\n",
      "SC Fermi level :      -27.577780507626215  (eV)\n",
      "\n",
      "Concentrations:\n",
      "n (electrons)  : 0.0 cm^-3\n",
      "p (holes)      : 4.76915363262079e+23 cm^-3\n",
      "v_O            : 108962683417962.45 cm^-3\n",
      "v_Li           : 3.1657268286906753e+19 cm^-3\n",
      "Li_i           : 3.171666822125282e+19 cm^-3\n",
      "O_i            : 32114217.60047768 cm^-3\n",
      "v_La           : 1129291744274.155 cm^-3\n",
      "v_Zr           : 632922.6170076132 cm^-3\n",
      "Zr_i           : 348396373.00623393 cm^-3\n",
      "Zr_Li_tet      : 2207662385.6512737 cm^-3\n",
      "Zr_Li          : 1082930634689081.5 cm^-3\n",
      "Zr_La          : 3852569385112314.0 cm^-3\n",
      "La_Zr          : 2862748633292593.0 cm^-3\n",
      "Li_La          : 2.196457082226168e+16 cm^-3\n",
      "Li_Zr          : 6638750489858611.0 cm^-3\n",
      "La_Li          : 1834495571440.0823 cm^-3\n",
      "\n",
      "Breakdown of concentrations for each defect charge state:\n",
      "---------------------------------------------------------\n",
      "v_O        : Charge Concentration(cm^-3) Total\n",
      "           :  2  1.047299e+14          96.12  [fixed]\n",
      "           :  1  4.232718e+12          3.88  [fixed]\n",
      "           :  0  5.186559e+07          0.00  [fixed]\n",
      "---------------------------------------------------------\n",
      "v_Li       : Charge Concentration(cm^-3) Total\n",
      "           :  0  3.165727e+19          100.00 \n",
      "           : -1  0.000000e+00          0.00 \n",
      "---------------------------------------------------------\n",
      "Li_i       : Charge Concentration(cm^-3) Total\n",
      "           :  0  0.000000e+00          0.00 \n",
      "           :  1    nan          nan \n",
      "---------------------------------------------------------\n",
      "O_i        : Charge Concentration(cm^-3) Total\n",
      "           :  0  3.211422e+07          100.00  [fixed]\n",
      "           : -1  3.476759e-02          0.00  [fixed]\n",
      "---------------------------------------------------------\n",
      "v_La       : Charge Concentration(cm^-3) Total\n",
      "           : -3  1.129292e+12          100.00  [fixed]\n",
      "---------------------------------------------------------\n",
      "v_Zr       : Charge Concentration(cm^-3) Total\n",
      "           : -4  6.329226e+05          100.00  [fixed]\n",
      "---------------------------------------------------------\n",
      "Zr_i       : Charge Concentration(cm^-3) Total\n",
      "           :  0  8.077672e-20          0.00  [fixed]\n",
      "           :  1  3.302850e-13          0.00  [fixed]\n",
      "           :  2  1.370646e-01          0.00  [fixed]\n",
      "           :  3  4.085441e+04          0.01  [fixed]\n",
      "           :  4  3.483555e+08          99.99  [fixed]\n",
      "---------------------------------------------------------\n",
      "Zr_Li_tet  : Charge Concentration(cm^-3) Total\n",
      "           :  0  4.416200e-07          0.00  [fixed]\n",
      "           :  1  5.464695e-01          0.00  [fixed]\n",
      "           :  2  2.207662e+09          100.00  [fixed]\n",
      "           :  3  7.810199e-47          0.00  [fixed]\n",
      "---------------------------------------------------------\n",
      "Zr_Li      : Charge Concentration(cm^-3) Total\n",
      "           :  0  2.795923e-03          0.00  [fixed]\n",
      "           :  1  1.412407e+04          0.00  [fixed]\n",
      "           :  2  8.840782e+09          0.00  [fixed]\n",
      "           :  3  1.082922e+15          100.00  [fixed]\n",
      "---------------------------------------------------------\n",
      "Zr_La      : Charge Concentration(cm^-3) Total\n",
      "           :  0  2.003956e+09          0.00  [fixed]\n",
      "           :  1  3.852567e+15          100.00  [fixed]\n",
      "---------------------------------------------------------\n",
      "La_Zr      : Charge Concentration(cm^-3) Total\n",
      "           :  0  3.544989e+09          0.00  [fixed]\n",
      "           : -1  2.862745e+15          100.00  [fixed]\n",
      "---------------------------------------------------------\n",
      "Li_La      : Charge Concentration(cm^-3) Total\n",
      "           :  0  4.223515e-01          0.00  [fixed]\n",
      "           : -1  6.211419e+08          0.00  [fixed]\n",
      "           : -2  2.196457e+16          100.00  [fixed]\n",
      "---------------------------------------------------------\n",
      "Li_Zr      : Charge Concentration(cm^-3) Total\n",
      "           :  0  5.155021e-07          0.00  [fixed]\n",
      "           : -1  8.150376e+02          0.00  [fixed]\n",
      "           : -2  1.228757e+10          0.00  [fixed]\n",
      "           : -3  6.638738e+15          100.00  [fixed]\n",
      "---------------------------------------------------------\n",
      "La_Li      : Charge Concentration(cm^-3) Total\n",
      "           :  0  3.347870e-02          0.00  [fixed]\n",
      "           :  1  7.977468e+04          0.00  [fixed]\n",
      "           :  2  1.834495e+12          100.00  [fixed]\n"
     ]
    },
    {
     "name": "stderr",
     "output_type": "stream",
     "text": [
      "/home/alex/anaconda3/lib/python3.6/site-packages/scipy/optimize/_minimize.py:763: RuntimeWarning: Method 'bounded' does not support relative tolerance in x; defaulting to absolute tolerance.\n",
      "  \"defaulting to absolute tolerance.\", RuntimeWarning)\n",
      "/mnt/c/Users/Alex/Materials_work/new_fermi/py-sc-fermi/py_sc_fermi/dos.py:86: RuntimeWarning: overflow encountered in exp\n",
      "  return dos / (1.0 + np.exp((e_fermi - edos)/kT))\n",
      "/mnt/c/Users/Alex/Materials_work/new_fermi/py-sc-fermi/py_sc_fermi/dos.py:89: RuntimeWarning: overflow encountered in exp\n",
      "  return dos / (1.0 + np.exp((edos - e_fermi)/kT))\n",
      "/mnt/c/Users/Alex/Materials_work/new_fermi/py-sc-fermi/py_sc_fermi/defect_charge_state.py:79: RuntimeWarning: overflow encountered in exp\n",
      "  return self.degeneracy * np.exp(expfac)\n",
      "/mnt/c/Users/Alex/Materials_work/new_fermi/py-sc-fermi/py_sc_fermi/defect_species.py:221: RuntimeWarning: invalid value encountered in double_scalars\n",
      "  cs_concentrations[q] *= scaling\n"
     ]
    }
   ],
   "source": [
    "all_defects[1] = make_defect([defects['v_Li'],defects['v_Li_-']], elements, interest['LLZO'], delta_mu=ex_grid.iloc[5497].to_dict(), corr=a['iccs'], sites=3)\n",
    "all_defects[2] = make_defect([defects['Li_i'],defects['Li_i_+']], elements, interest['LLZO'], delta_mu=ex_grid.iloc[5497].to_dict(), corr=a['iccs'], sites=1)\n",
    "\n",
    "defect_system_sunghyun = DefectSystem( defect_species=all_defects,\n",
    "                                volume=inputs['volume'],\n",
    "                                dos=inputs['dos'],\n",
    "                                temperature=300,\n",
    "                                spin_pol=2)\n",
    "\n",
    "defect_system_sunghyun.defect_species_by_name('v_Li').fix_concentration(defect_system_high_t.to_dict()['v_Li']   / 1e24 * defect_system_sunghyun.volume) #\n",
    "defect_system_sunghyun.defect_species_by_name('Li_i').fix_concentration(defect_system_high_t.to_dict()['Li_i'] / 1e24 * defect_system_sunghyun.volume) #  \n",
    "defect_system_sunghyun.write_inputs('py_sunghyun.dat')\n",
    "defect_system_sunghyun.report()"
   ]
  },
  {
   "cell_type": "code",
   "execution_count": 53,
   "metadata": {},
   "outputs": [
    {
     "ename": "TypeError",
     "evalue": "__init__() missing 1 required positional argument: 'spin_pol'",
     "output_type": "error",
     "traceback": [
      "\u001b[0;31m---------------------------------------------------------------------------\u001b[0m",
      "\u001b[0;31mTypeError\u001b[0m                                 Traceback (most recent call last)",
      "\u001b[0;32m<ipython-input-53-c5e1c0a05b7a>\u001b[0m in \u001b[0;36m<module>\u001b[0;34m()\u001b[0m\n\u001b[1;32m      5\u001b[0m                                 \u001b[0mvolume\u001b[0m\u001b[0;34m=\u001b[0m\u001b[0minputs\u001b[0m\u001b[0;34m[\u001b[0m\u001b[0;34m'volume'\u001b[0m\u001b[0;34m]\u001b[0m\u001b[0;34m,\u001b[0m\u001b[0;34m\u001b[0m\u001b[0m\n\u001b[1;32m      6\u001b[0m                                 \u001b[0mdos\u001b[0m\u001b[0;34m=\u001b[0m\u001b[0minputs\u001b[0m\u001b[0;34m[\u001b[0m\u001b[0;34m'dos'\u001b[0m\u001b[0;34m]\u001b[0m\u001b[0;34m,\u001b[0m\u001b[0;34m\u001b[0m\u001b[0m\n\u001b[0;32m----> 7\u001b[0;31m                                 temperature=300)\n\u001b[0m\u001b[1;32m      8\u001b[0m \u001b[0;34m\u001b[0m\u001b[0m\n\u001b[1;32m      9\u001b[0m \u001b[0mdefect_system_ben\u001b[0m\u001b[0;34m.\u001b[0m\u001b[0mget_constrained_sc_fermi\u001b[0m\u001b[0;34m(\u001b[0m\u001b[0;34m{\u001b[0m\u001b[0;34m'v_Li'\u001b[0m\u001b[0;34m:\u001b[0m \u001b[0;34m+\u001b[0m\u001b[0;36m1\u001b[0m\u001b[0;34m,\u001b[0m \u001b[0;34m'Li_i'\u001b[0m\u001b[0;34m:\u001b[0m \u001b[0;34m-\u001b[0m\u001b[0;36m1\u001b[0m\u001b[0;34m}\u001b[0m\u001b[0;34m,\u001b[0m \u001b[0mconstraint\u001b[0m\u001b[0;34m)\u001b[0m\u001b[0;34m\u001b[0m\u001b[0m\n",
      "\u001b[0;31mTypeError\u001b[0m: __init__() missing 1 required positional argument: 'spin_pol'"
     ]
    }
   ],
   "source": [
    "all_defects[1] = make_defect([defects['v_Li'],defects['v_Li_-']], elements, interest['LLZO'], delta_mu=ex_grid.iloc[5497].to_dict(), corr=a['iccs'], sites=3)\n",
    "all_defects[2] = make_defect([defects['Li_i'],defects['Li_i_+']], elements, interest['LLZO'], delta_mu=ex_grid.iloc[5497].to_dict(), corr=a['iccs'], sites=1)\n",
    "\n",
    "defect_system_ben = DefectSystem( defect_species=all_defects,\n",
    "                                volume=inputs['volume'],\n",
    "                                dos=inputs['dos'],\n",
    "                                temperature=300)\n",
    "\n",
    "defect_system_ben.get_constrained_sc_fermi({'v_Li': +1, 'Li_i': -1}, constraint)\n",
    "#defect_system_ben"
   ]
  },
  {
   "cell_type": "code",
   "execution_count": null,
   "metadata": {},
   "outputs": [],
   "source": [
    "from auto_functions import *\n",
    "from py_sc_fermi.inputs import inputs_from_files\n",
    "from pandas import DataFrame as df\n",
    "import pandas as pd\n",
    "from itertools import product\n",
    "from tqdm import tqdm\n",
    "import numpy as np\n",
    "from scipy.constants import physical_constants\n",
    "\n",
    "grid = (pd.read_csv('grid.dat', skiprows=10, sep='\\s+'))  # 'grid' refers to a stability region divded into a grid of approximatley 80 points\n",
    "ex_grid = (pd.read_csv('ex_grid.dat', skiprows=10, sep='\\s+'))\n",
    "\n",
    "def dependance(P,T):\n",
    "    \"\"\"\n",
    "    \n",
    "    This function gives dependance of mu_O(T,P)\n",
    "    args: P = pressure (float)\n",
    "          T = temperature (float)\n",
    "          \n",
    "    returning:\n",
    "          mu_O(T,P) (float)\n",
    "          \n",
    "    assuming oxygen is an ideal gas\n",
    "    \n",
    "    \"\"\"\n",
    "    \n",
    "    chem_pot = 0.5 * ( (Cp * (T - 298))\n",
    "                      - T * ( (S_0 + (Cp * np.log(T/298)) + (kb_e * np.log((0.21/P)) ) ) ))  \n",
    "    return chem_pot          \n",
    "\n",
    "kb_e = physical_constants['Boltzmann constant in eV/K'][0]\n",
    "j_to_ev = 1/physical_constants['electron volt-joule relationship'][0]\n",
    "S_0 = 205 * j_to_ev / physical_constants['Avogadro constant'][0]\n",
    "Cp = (7/2)*kb_e\n",
    "\n",
    "temperature = np.arange(800, 1600, 100)\n",
    "pressure = np.logspace(-1, -10, num=10)\n",
    "in_conds = product(pressure,temperature)\n",
    "\n",
    "unitcell_filename = 'unitcell.dat'\n",
    "totdos_filename = 'totdos.dat'\n",
    "input_fermi_filename = 'input-fermi.dat'\n",
    "\n",
    "# inputs = inputs_from_files(unitcell_filename=unitcell_filename, \n",
    "#                            input_fermi_filename=input_fermi_filename, \n",
    "#                            totdos_filename=totdos_filename)\n",
    "\n",
    "# out_undoped=[]\n",
    "# for i in tqdm(in_conds):\n",
    "#         mu_o = dependance(i[0], i[1])    # calculate oxygen chemical potential based of temperature and pressure \n",
    "#         for j in range(ex_grid.shape[0]):\n",
    "#             if round(mu_o,1) == round(ex_grid['mu_O'][j],1):\n",
    "#                     b = make_all_defects(a,ex_grid.iloc[j].to_dict())\n",
    "\n",
    "defect_system = DefectSystem( defect_species=b,\n",
    "                                volume=inputs['volume'],\n",
    "                                dos=inputs['dos'],\n",
    "                                temperature=300)\n",
    "#         out_undoped.append(defect_system.to_dict())\n",
    "defect_system.report()\n",
    "#defect_system.get_constrained_sc_fermi({'v_Li': +1, 'Li_i': -1}, constraint)\n",
    "print(defect_system.to_dict()['v_Li'] - defect_system.to_dict()['Li_i'])\n",
    "print(constraint)\n",
    "ahhh = defect_system.get_constrained_sc_fermi({'v_Li': +1, 'Li_i': -1}, constraint)\n",
    "defect_system.write_inputs('input-fermi-frozen.dat')"
   ]
  },
  {
   "cell_type": "code",
   "execution_count": 7,
   "metadata": {},
   "outputs": [
    {
     "ename": "NameError",
     "evalue": "name 'defect_system_sunghyun' is not defined",
     "output_type": "error",
     "traceback": [
      "\u001b[0;31m---------------------------------------------------------------------------\u001b[0m",
      "\u001b[0;31mNameError\u001b[0m                                 Traceback (most recent call last)",
      "\u001b[0;32m<ipython-input-7-1ac4f8616c94>\u001b[0m in \u001b[0;36m<module>\u001b[0;34m()\u001b[0m\n\u001b[0;32m----> 1\u001b[0;31m \u001b[0;36m5.020959929938431e-24\u001b[0m \u001b[0;34m*\u001b[0m \u001b[0;36m1e24\u001b[0m \u001b[0;34m/\u001b[0m \u001b[0mdefect_system_sunghyun\u001b[0m\u001b[0;34m.\u001b[0m\u001b[0mvolume\u001b[0m\u001b[0;34m\u001b[0m\u001b[0m\n\u001b[0m",
      "\u001b[0;31mNameError\u001b[0m: name 'defect_system_sunghyun' is not defined"
     ]
    }
   ],
   "source": [
    "5.020959929938431e-24 * 1e24 / defect_system_sunghyun.volume"
   ]
  },
  {
   "cell_type": "code",
   "execution_count": 22,
   "metadata": {},
   "outputs": [
    {
     "name": "stdout",
     "output_type": "stream",
     "text": [
      "1.9e+18\n",
      "5e+19\n"
     ]
    }
   ],
   "source": [
    "ficharg = False\n",
    "fixconch = False\n",
    "namefn = defect_system.defect_species_names\n",
    "chargefn = [-1.0, 1.0]\n",
    "concfn = [0.19e19, 0.5e20]\n",
    "if 0 in chargefn:\n",
    "    checkfixchg = True\n",
    "else:\n",
    "    checkfixchg = False\n",
    "for n,q,c  in zip( namefn, chargefn, concfn ):\n",
    "    print(c)\n",
    "    c = c * defect_system.volume / 1e24\n",
    "\n",
    "    if n in defect_system.defect_species_names:     \n",
    "        defect_system.defect_species_by_name(n).charge_states[q] = frozen_charge_state\n",
    "    else:\n",
    "        ds = DefectSpecies(name=n, nsites=1, charge_states=[frozen_charge_state])\n",
    "        defect_system.defect_species.append(ds)"
   ]
  },
  {
   "cell_type": "code",
   "execution_count": 35,
   "metadata": {},
   "outputs": [
    {
     "name": "stdout",
     "output_type": "stream",
     "text": [
      "<class 'list'>\n",
      "<class 'list'>\n",
      "<class 'list'>\n",
      "<class 'list'>\n",
      "<class 'list'>\n",
      "<class 'list'>\n",
      "<class 'list'>\n",
      "<class 'list'>\n",
      "<class 'list'>\n",
      "<class 'list'>\n",
      "<class 'list'>\n",
      "<class 'list'>\n",
      "<class 'list'>\n"
     ]
    }
   ],
   "source": [
    "for i,j in zip(all_frozen_charge_states,b):\n",
    "    print(type(all_frozen_charge_states[j.name]))"
   ]
  },
  {
   "cell_type": "code",
   "execution_count": 11,
   "metadata": {},
   "outputs": [
    {
     "ename": "SyntaxError",
     "evalue": "invalid syntax (<ipython-input-11-3e7d8ae30852>, line 1)",
     "output_type": "error",
     "traceback": [
      "\u001b[0;36m  File \u001b[0;32m\"<ipython-input-11-3e7d8ae30852>\"\u001b[0;36m, line \u001b[0;32m1\u001b[0m\n\u001b[0;31m    defect_system.defect_species_by_name('v_O').(all_frozen_charge_states['v_O'])\u001b[0m\n\u001b[0m                                                ^\u001b[0m\n\u001b[0;31mSyntaxError\u001b[0m\u001b[0;31m:\u001b[0m invalid syntax\n"
     ]
    }
   ],
   "source": [
    "defect_system.defect_species_by_name('v_O').(all_frozen_charge_states['v_O'])"
   ]
  },
  {
   "cell_type": "code",
   "execution_count": 41,
   "metadata": {},
   "outputs": [
    {
     "data": {
      "text/plain": [
       "{0: q=+0, e=3.430977650000065, deg=1,\n",
       " 1: q=+1, e=-0.9798363610594906, deg=2,\n",
       " 2: q=+2, e=-4.522686024237847, deg=1}"
      ]
     },
     "execution_count": 41,
     "metadata": {},
     "output_type": "execute_result"
    }
   ],
   "source": [
    "b[0].charge_states"
   ]
  },
  {
   "cell_type": "code",
   "execution_count": 17,
   "metadata": {},
   "outputs": [],
   "source": [
    "b[1] = make_defect([defects['v_Li'],defects['v_Li_-']], elements, interest['LLZO'], delta_mu=ex_grid.iloc[5497].to_dict(), corr=a['iccs'], sites=3)\n",
    "b[2] = make_defect([defects['Li_i'],defects['Li_i_+']], elements, interest['LLZO'], delta_mu=ex_grid.iloc[5497].to_dict(), corr=a['iccs'], sites=1)"
   ]
  },
  {
   "cell_type": "code",
   "execution_count": 20,
   "metadata": {},
   "outputs": [
    {
     "data": {
      "text/plain": [
       "[\n",
       " v_O, nsites=3\n",
       "   q=+2, [c]=1.95371445701975e-08\n",
       "   q=+1, [c]=1.0964709087204011e-08\n",
       "   q=+0, [c]=1.865711908943459e-12, \n",
       " v_Li, nsites=3\n",
       "   q=+0, e=3.4713573800000104, deg=2\n",
       "   q=-1, e=3.959671988940586, deg=1, \n",
       " Li_i, nsites=1\n",
       "   q=+0, e=2.6462461100000683, deg=2\n",
       "   q=+1, e=-2.939530639755103, deg=1, \n",
       " O_i, nsites=1\n",
       "   q=+0, [c]=1.1074639464890854e-16\n",
       "   q=-1, [c]=1.664923532741314e-24, \n",
       " v_La, nsites=2\n",
       "   q=-3, [c]=1.180868301691534e-10, \n",
       " v_Zr, nsites=1\n",
       "   q=-4, [c]=1.6651526320547301e-16, \n",
       " Zr_i, nsites=1\n",
       "   q=+0, [c]=1.2745963527569528e-35\n",
       "   q=+1, [c]=3.75307978035854e-30\n",
       "   q=+2, [c]=1.1215972007106742e-19\n",
       "   q=+3, [c]=2.4074817641882648e-15\n",
       "   q=+4, [c]=1.4782888055452145e-12, \n",
       " Zr_Li_tet, nsites=1\n",
       "   q=+0, [c]=5.020959929938431e-24\n",
       "   q=+1, [c]=4.474211205277478e-19\n",
       "   q=+2, [c]=1.301654553278397e-10\n",
       "   q=+3, [c]=3.316177320445699e-67, \n",
       " Zr_Li, nsites=2\n",
       "   q=+0, [c]=7.946999107003572e-21\n",
       "   q=+1, [c]=2.891016063533735e-15\n",
       "   q=+2, [c]=1.3031480792641396e-10\n",
       "   q=+3, [c]=1.1495099260207468e-06, \n",
       " Zr_La, nsites=2\n",
       "   q=+0, [c]=1.1686582781223635e-11\n",
       "   q=+1, [c]=1.6179389679487525e-06, \n",
       " La_Zr, nsites=2\n",
       "   q=+0, [c]=4.2416573811272465e-14\n",
       "   q=-1, [c]=4.756536461047394e-07, \n",
       " Li_La, nsites=2\n",
       "   q=+0, [c]=2.2890506841393414e-25\n",
       "   q=-1, [c]=4.674763202198704e-15\n",
       "   q=-2, [c]=2.295508955861917e-06, \n",
       " Li_Zr, nsites=1\n",
       "   q=+0, [c]=5.062120745490645e-32\n",
       "   q=-1, [c]=1.1113915846731942e-21\n",
       "   q=-2, [c]=2.326714502275295e-13\n",
       "   q=-3, [c]=1.7456209523594565e-06]"
      ]
     },
     "execution_count": 20,
     "metadata": {},
     "output_type": "execute_result"
    }
   ],
   "source": [
    "b"
   ]
  },
  {
   "cell_type": "code",
   "execution_count": null,
   "metadata": {},
   "outputs": [],
   "source": [
    "defect_system.get_constrained_sc_fermi({'v_Li': +1, 'Li_i': -1}, constraint)"
   ]
  },
  {
   "cell_type": "code",
   "execution_count": 41,
   "metadata": {},
   "outputs": [
    {
     "name": "stderr",
     "output_type": "stream",
     "text": [
      "/mnt/c/Users/Alex/Materials_work/new_fermi/py-sc-fermi/py_sc_fermi/dos.py:86: RuntimeWarning: overflow encountered in exp\n",
      "  return dos / (1.0 + np.exp((e_fermi - edos)/kT))\n"
     ]
    },
    {
     "data": {
      "text/plain": [
       "39848935.686796546"
      ]
     },
     "execution_count": 41,
     "metadata": {},
     "output_type": "execute_result"
    }
   ],
   "source": [
    "from py_sc_fermi.constants import kboltz\n",
    "inputs['dos'].carrier_concentrations(ahhh, kboltz*400)[1] * 1e24 / defect_system.volume"
   ]
  },
  {
   "cell_type": "code",
   "execution_count": 5,
   "metadata": {},
   "outputs": [
    {
     "data": {
      "text/plain": [
       "55470526730644.88"
      ]
     },
     "execution_count": 5,
     "metadata": {},
     "output_type": "execute_result"
    }
   ],
   "source": [
    "5.861142806132946e-08 * 1e24 / defect_system_high_t.volume"
   ]
  },
  {
   "cell_type": "code",
   "execution_count": 6,
   "metadata": {},
   "outputs": [
    {
     "data": {
      "text/plain": [
       "{'Fermi Energy': 3.378588096089299,\n",
       " 'La_Li': {'0': 5.747064021154197e-21,\n",
       "  '1': 9.86177284287399e-16,\n",
       "  '2': 1.6331237901679048e-09},\n",
       " 'La_Zr': {'-1': 9.513073380553605e-07, '0': 8.483314762254493e-14},\n",
       " 'Li_La': {'-1': 9.34952685497451e-15,\n",
       "  '-2': 4.591018354229147e-06,\n",
       "  '0': 4.578101368278683e-25},\n",
       " 'Li_Zr': {'-1': 1.1113916382339392e-21,\n",
       "  '-2': 2.3267147265357027e-13,\n",
       "  '-3': 1.7456212047369914e-06,\n",
       "  '0': 5.062120745490645e-32},\n",
       " 'Li_i': {'0': 2.5706587612672673e-09, '1': 0.033483707538704825},\n",
       " 'O_i': {'-1': 1.66492361297815e-24, '0': 1.1074639464890854e-16},\n",
       " 'Zr_La': {'0': 2.337316556244727e-11, '1': 3.2358777799524536e-06},\n",
       " 'Zr_Li': {'0': 1.5893998214007144e-20,\n",
       "  '1': 5.7820318484168274e-15,\n",
       "  '2': 2.606295907320423e-10,\n",
       "  '3': 2.2990195196549705e-06},\n",
       " 'Zr_Li_tet': {'0': 5.020959929938431e-24,\n",
       "  '1': 4.474210989654041e-19,\n",
       "  '2': 1.3016544278184224e-10,\n",
       "  '3': 3.316176841001065e-67},\n",
       " 'Zr_i': {'0': 1.2745963527569528e-35,\n",
       "  '1': 3.753079599488231e-30,\n",
       "  '2': 1.1215970926055236e-19,\n",
       "  '3': 2.407481416120599e-15,\n",
       "  '4': 1.4782885205754894e-12},\n",
       " 'n0': 4847943842054.927,\n",
       " 'p0': 44482918549.52475,\n",
       " 'v_La': {'-3': 2.361736944837071e-10},\n",
       " 'v_Li': {'-1': 0.03347861704398873, '0': 1.3029176442474573e-11},\n",
       " 'v_O': {'0': 5.597135726830377e-12,\n",
       "  '1': 3.2894125676361824e-08,\n",
       "  '2': 5.861142806132946e-08},\n",
       " 'v_Zr': {'-4': 1.6651529530462502e-16}}"
      ]
     },
     "execution_count": 6,
     "metadata": {},
     "output_type": "execute_result"
    }
   ],
   "source": [
    "fix"
   ]
  },
  {
   "cell_type": "code",
   "execution_count": 14,
   "metadata": {},
   "outputs": [
    {
     "name": "stderr",
     "output_type": "stream",
     "text": [
      "/home/alex/anaconda3/lib/python3.6/site-packages/scipy/optimize/_minimize.py:763: RuntimeWarning: Method 'bounded' does not support relative tolerance in x; defaulting to absolute tolerance.\n",
      "  \"defaulting to absolute tolerance.\", RuntimeWarning)\n",
      "/mnt/c/Users/Alex/Materials_work/new_fermi/py-sc-fermi/py_sc_fermi/defect_charge_state.py:79: RuntimeWarning: overflow encountered in exp\n",
      "  return self.degeneracy * np.exp(expfac)\n",
      "/home/alex/anaconda3/lib/python3.6/site-packages/scipy/optimize/optimize.py:1762: RuntimeWarning: invalid value encountered in double_scalars\n",
      "  p = (xf - fulc) * q - (xf - nfc) * r\n",
      "/home/alex/anaconda3/lib/python3.6/site-packages/scipy/optimize/optimize.py:1763: RuntimeWarning: invalid value encountered in double_scalars\n",
      "  q = 2.0 * (q - r)\n"
     ]
    },
    {
     "data": {
      "text/plain": [
       "2.998661772957925e+40"
      ]
     },
     "execution_count": 14,
     "metadata": {},
     "output_type": "execute_result"
    }
   ],
   "source": [
    "defect_system_high_t.to_dict()['v_Li']"
   ]
  },
  {
   "cell_type": "code",
   "execution_count": null,
   "metadata": {},
   "outputs": [],
   "source": []
  }
 ],
 "metadata": {
  "kernelspec": {
   "display_name": "Python 3",
   "language": "python",
   "name": "python3"
  },
  "language_info": {
   "codemirror_mode": {
    "name": "ipython",
    "version": 3
   },
   "file_extension": ".py",
   "mimetype": "text/x-python",
   "name": "python",
   "nbconvert_exporter": "python",
   "pygments_lexer": "ipython3",
   "version": "3.6.5"
  }
 },
 "nbformat": 4,
 "nbformat_minor": 2
}
