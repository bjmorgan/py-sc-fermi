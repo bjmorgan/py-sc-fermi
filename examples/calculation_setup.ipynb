{
 "cells": [
  {
   "cell_type": "code",
   "execution_count": 2,
   "metadata": {},
   "outputs": [
    {
     "name": "stderr",
     "output_type": "stream",
     "text": [
      "/home/alex/.pyenv/versions/3.8.2/lib/python3.8/site-packages/pymatgen/io/vasp/sets.py:129: BadInputSetWarning: POTCAR data with symbol Li_sv is not known by pymatgen to                    correspond with the selected potcar_functional PBE. This POTCAR                    is known to correspond with functionals ['unvie_PBE_52', 'PBE_52', 'PBE_54']. Please verify that                    you are using the right POTCARs!\n",
      "  warnings.warn(\n",
      "/home/alex/.pyenv/versions/3.8.2/lib/python3.8/site-packages/pymatgen/io/vasp/sets.py:129: BadInputSetWarning: POTCAR data with symbol F is not known by pymatgen to                    correspond with the selected potcar_functional PBE. This POTCAR                    is known to correspond with functionals ['unvie_PBE_52', 'PBE_52', 'PBE_54']. Please verify that                    you are using the right POTCARs!\n",
      "  warnings.warn(\n"
     ]
    }
   ],
   "source": [
    "# init dummy calcs\n",
    "\n",
    "from pymatgen.core import Structure\n",
    "from copy import deepcopy\n",
    "\n",
    "host = Structure.from_file('LiF_mp-1138_conventional_standard.cif')\n",
    "host.make_supercell(2)\n",
    "\n",
    "Li_vacancy = deepcopy(host)\n",
    "Li_vacancy.remove_sites([0])\n",
    "F_vacancy = deepcopy(host)\n",
    "F_vacancy.remove_sites([32])\n",
    "\n",
    "from pymatgen.io.vasp.sets import MPRelaxSet\n",
    "\n",
    "host_calc = MPRelaxSet(host, user_incar_settings={'ISIF':2, 'EDIFFG':-0.05})\n",
    "Li_vacancy_calc = MPRelaxSet(Li_vacancy, user_incar_settings={'ISIF':2, 'EDIFFG':-0.05, 'NELECT':host_calc.nelect+1})\n",
    "F_vacancy_calc = MPRelaxSet(F_vacancy, user_incar_settings={'ISIF':2, 'EDIFFG':-0.05, 'NELECT':host_calc.nelect-1})\n",
    "\n",
    "Li_vacancy_calc.write_input('v_Li')\n",
    "F_vacancy_calc.write_input('v_F')\n",
    "host_calc.write_input('host')"
   ]
  },
  {
   "cell_type": "code",
   "execution_count": 3,
   "metadata": {},
   "outputs": [
    {
     "name": "stderr",
     "output_type": "stream",
     "text": [
      "/home/alex/.pyenv/versions/3.8.2/lib/python3.8/site-packages/pymatgen/io/vasp/sets.py:129: BadInputSetWarning: POTCAR data with symbol Li_sv is not known by pymatgen to                    correspond with the selected potcar_functional PBE. This POTCAR                    is known to correspond with functionals ['unvie_PBE_52', 'PBE_52', 'PBE_54']. Please verify that                    you are using the right POTCARs!\n",
      "  warnings.warn(\n",
      "/home/alex/.pyenv/versions/3.8.2/lib/python3.8/site-packages/pymatgen/io/vasp/sets.py:129: BadInputSetWarning: POTCAR data with symbol F is not known by pymatgen to                    correspond with the selected potcar_functional PBE. This POTCAR                    is known to correspond with functionals ['unvie_PBE_52', 'PBE_52', 'PBE_54']. Please verify that                    you are using the right POTCARs!\n",
      "  warnings.warn(\n"
     ]
    },
    {
     "data": {
      "text/plain": [
       "(0.0, 400.0)"
      ]
     },
     "execution_count": 3,
     "metadata": {},
     "output_type": "execute_result"
    },
    {
     "data": {
      "image/png": "[encoded data removed]",
      "text/plain": [
       "<Figure size 432x288 with 1 Axes>"
      ]
     },
     "metadata": {
      "needs_background": "light"
     },
     "output_type": "display_data"
    }
   ],
   "source": [
    "# manual DOS object generation\n",
    "\n",
    "from vasppy.doscar import Doscar\n",
    "from py_sc_fermi.dos import DOS\n",
    "import numpy as np\n",
    "import matplotlib.pyplot as plt\n",
    "\n",
    "host_doscar = Doscar('DOSCAR_SP.txt')\n",
    "vbm = host_doscar.efermi\n",
    "edos = host_doscar.tdos\n",
    "unoccupied_states = edos[edos['energy'] > vbm]\n",
    "cbm = unoccupied_states[unoccupied_states['up'] + unoccupied_states['down'] > 0.00001].iloc[0]['energy']\n",
    "bandgap = cbm - vbm\n",
    "\n",
    "dos = DOS(np.array(edos['up']) + np.array(edos['down']), np.array(edos['energy']), bandgap, nelect=host_calc.nelect)\n",
    "\n",
    "plt.plot(dos.edos,dos.dos)\n",
    "plt.vlines(vbm, 0, 1000, color = 'black', ls='--')\n",
    "plt.vlines(cbm, 0, 1000, color = 'black', ls='--')\n",
    "plt.xlim(-10,10)\n",
    "plt.ylim(0,400)"
   ]
  },
  {
   "cell_type": "code",
   "execution_count": 25,
   "metadata": {},
   "outputs": [
    {
     "name": "stderr",
     "output_type": "stream",
     "text": [
      "/home/alex/.pyenv/versions/3.8.2/lib/python3.8/site-packages/pymatgen/io/vasp/sets.py:129: BadInputSetWarning: POTCAR data with symbol Li_sv is not known by pymatgen to                    correspond with the selected potcar_functional PBE. This POTCAR                    is known to correspond with functionals ['unvie_PBE_52', 'PBE_52', 'PBE_54']. Please verify that                    you are using the right POTCARs!\n",
      "  warnings.warn(\n",
      "/home/alex/.pyenv/versions/3.8.2/lib/python3.8/site-packages/pymatgen/io/vasp/sets.py:129: BadInputSetWarning: POTCAR data with symbol F is not known by pymatgen to                    correspond with the selected potcar_functional PBE. This POTCAR                    is known to correspond with functionals ['unvie_PBE_52', 'PBE_52', 'PBE_54']. Please verify that                    you are using the right POTCARs!\n",
      "  warnings.warn(\n",
      "/home/alex/.pyenv/versions/3.8.2/lib/python3.8/site-packages/pymatgen/io/vasp/outputs.py:1014: UserWarning: No POTCAR file with matching TITEL fields was found in /mnt/a/materials_2/LiF\n",
      "  warnings.warn(\"No POTCAR file with matching TITEL fields\" \" was found in {}\".format(os.path.abspath(p)))\n"
     ]
    },
    {
     "data": {
      "text/plain": [
       "(0.0, 400.0)"
      ]
     },
     "execution_count": 25,
     "metadata": {},
     "output_type": "execute_result"
    },
    {
     "data": {
      "image/png": "[encoded data removed]",
      "text/plain": [
       "<Figure size 432x288 with 1 Axes>"
      ]
     },
     "metadata": {
      "needs_background": "light"
     },
     "output_type": "display_data"
    }
   ],
   "source": [
    "from pymatgen.io.vasp import Vasprun\n",
    "\n",
    "def DOS_from_vasprun(doscar, nelect):\n",
    "    \"\"\"\n",
    "    generate DOS object (py_sc_fermi.dos) from a vasp \n",
    "    doscar given number of electrons in calculation\n",
    "    \n",
    "    Args:\n",
    "        doscar (string): path to DOSCAR to parse\n",
    "        nelect (float): number of electrons in vasp calculation\n",
    "    \n",
    "    Returns:\n",
    "        dos (DOS): DOS object \n",
    "    \"\"\"\n",
    "    vr = Vasprun('vasprun_nsp.xml')\n",
    "    cbm, vbm = vr.tdos.get_cbm_vbm()\n",
    "    edos = sum(vr.tdos.densities.values())\n",
    "    energies = vr.tdos.energies\n",
    "    bandgap = vr.tdos.get_gap()\n",
    "    dos = DOS(edos, energies, bandgap, nelect=host_calc.nelect)\n",
    "    return dos\n",
    "    \n",
    "dos = DOS_from_vasprun('vasprun_nsp.xml',host_calc.nelect)\n",
    "\n",
    "plt.plot(dos.edos,dos.dos)\n",
    "plt.vlines(vbm, 0, 1000, color = 'black', ls='--')\n",
    "plt.vlines(cbm, 0, 1000, color = 'black', ls='--')\n",
    "plt.xlim(-10,10)\n",
    "plt.ylim(0,400)"
   ]
  },
  {
   "cell_type": "code",
   "execution_count": 26,
   "metadata": {},
   "outputs": [
    {
     "name": "stderr",
     "output_type": "stream",
     "text": [
      "/home/alex/.pyenv/versions/3.8.2/lib/python3.8/site-packages/pymatgen/io/vasp/outputs.py:1014: UserWarning: No POTCAR file with matching TITEL fields was found in /mnt/a/materials_2/LiF\n",
      "  warnings.warn(\"No POTCAR file with matching TITEL fields\" \" was found in {}\".format(os.path.abspath(p)))\n"
     ]
    }
   ],
   "source": [
    "from pymatgen.core import Structure\n",
    "\n",
    "def volume_from_structure(structure_file):\n",
    "    \"\"\"\n",
    "    return volume in A^3 for a given structure file. Relies on pymatgen structure parser\n",
    "    so accepts a wide range of formats inc. POSCAR, .cif, vasp output files (OUTCAR, vasprun.xml) etc.\n",
    "    \n",
    "    Args:\n",
    "        structure_file (str): path to structure file to parse\n",
    "    \n",
    "    Returns:\n",
    "        volume (float): volume of structure in A^3\n",
    "    \"\"\"\n",
    "    structure = Structure.from_file(structure_file)\n",
    "    volume = structure.volume\n",
    "    return volume\n",
    "\n",
    "volume = volume_from_structure('vasprun.xml')\n",
    "\n",
    "host_DFT_energy = -308.50975379\n",
    "v_F_DFT_energy = -304.63905419\n",
    "v_Li_DFT_energy = -301.33048584\n",
    "\n",
    "raw_v_F_energy = v_F_DFT_energy - -308.50975379\n",
    "raw_v_Li_energy = v_Li_DFT_energy - -308.50975379"
   ]
  },
  {
   "cell_type": "code",
   "execution_count": 27,
   "metadata": {},
   "outputs": [
    {
     "name": "stderr",
     "output_type": "stream",
     "text": [
      "/home/alex/.pyenv/versions/3.8.2/lib/python3.8/site-packages/pymatgen/ext/matproj.py:567: FutureWarning: __init__ is deprecated\n",
      "MaterialsProjectCompatibility will be updated with new correction classes as well as new values of corrections and uncertainties in 2020\n",
      "  entries = MaterialsProjectCompatibility().process_entries(entries)\n"
     ]
    }
   ],
   "source": [
    "from pymatgen.ext.matproj import MPRester\n",
    "from pymatgen.analysis.phase_diagram import PhaseDiagram\n",
    "from pymatgen.core import Element, Composition\n",
    "\n",
    "#This initializes the REST adaptor. Put your own API key in if necessary.\n",
    "mp_rest = MPRester()\n",
    "\n",
    "#This gets all entries belonging to the Ca-C-O system.\n",
    "all_entries = mp_rest.get_entries_in_chemsys(['Li','F'])\n",
    "phase_diagram = PhaseDiagram(all_entries)\n",
    "chemical_potentials = phase_diagram.get_chempot_range_stability_phase(Composition({'Li':1,'F':1}),Element['F'])\n",
    "\n",
    "defect_formation_energy_v_F = raw_v_F_energy + 1 * chemical_potentials[Element['F']][0] + 1 * vbm\n",
    "defect_formation_energy_v_Li = raw_v_Li_energy - 1 * chemical_potentials[Element['Li']][0] + -1 * vbm"
   ]
  },
  {
   "cell_type": "code",
   "execution_count": 28,
   "metadata": {},
   "outputs": [
    {
     "data": {
      "text/plain": [
       "Text(0, 0.5, 'E_formation / eV')"
      ]
     },
     "execution_count": 28,
     "metadata": {},
     "output_type": "execute_result"
    },
    {
     "data": {
      "image/png": "[encoded data removed]",
      "text/plain": [
       "<Figure size 432x288 with 1 Axes>"
      ]
     },
     "metadata": {
      "needs_background": "light"
     },
     "output_type": "display_data"
    }
   ],
   "source": [
    "from py_sc_fermi.defect_system import DefectSystem\n",
    "from py_sc_fermi.defect_species import DefectSpecies\n",
    "from py_sc_fermi.defect_charge_state import DefectChargeState\n",
    "\n",
    "v_Li = DefectSpecies('v_Li', 32, [DefectChargeState(-1, defect_formation_energy_v_Li, 1)])\n",
    "v_F = DefectSpecies('v_F', 32, [DefectChargeState(1, defect_formation_energy_v_F, 1)])\n",
    "defect_system = DefectSystem([v_Li, v_F], dos, volume, temperature=1000, spin_pol=1)\n",
    "\n",
    "plt.plot(defect_system.get_transition_levels()['v_Li'][0], defect_system.get_transition_levels()['v_Li'][1])\n",
    "plt.plot(defect_system.get_transition_levels()['v_F'][0], defect_system.get_transition_levels()['v_F'][1])\n",
    "plt.xlim(0, cbm-vbm)\n",
    "plt.ylim(0,10)\n",
    "\n",
    "plt.xlabel('E_Fermi / eV')\n",
    "plt.ylabel('E_formation / eV')"
   ]
  },
  {
   "cell_type": "code",
   "execution_count": 29,
   "metadata": {},
   "outputs": [
    {
     "name": "stderr",
     "output_type": "stream",
     "text": [
      "/mnt/a/materials_2/py-sc-fermi/py_sc_fermi/dos.py:94: RuntimeWarning: overflow encountered in exp\n",
      "  return dos / (1.0 + np.exp((e_fermi - edos)/kT))\n"
     ]
    },
    {
     "data": {
      "text/plain": [
       "[<matplotlib.lines.Line2D at 0x7f7af96aa520>]"
      ]
     },
     "execution_count": 29,
     "metadata": {},
     "output_type": "execute_result"
    },
    {
     "data": {
      "image/png": "[encoded data removed]",
      "text/plain": [
       "<Figure size 432x288 with 1 Axes>"
      ]
     },
     "metadata": {
      "needs_background": "light"
     },
     "output_type": "display_data"
    }
   ],
   "source": [
    "from py_sc_fermi.defect_system import DefectSystem\n",
    "from py_sc_fermi.defect_species import DefectSpecies\n",
    "from py_sc_fermi.defect_charge_state import DefectChargeState\n",
    "\n",
    "v_Li = DefectSpecies('v_Li', 32, [DefectChargeState(-1, defect_formation_energy_v_Li, 1)])\n",
    "v_F = DefectSpecies('v_F', 32, [DefectChargeState(1, defect_formation_energy_v_F, 1)])\n",
    "\n",
    "\n",
    "v_li_concentrations = []\n",
    "v_f_concentrations = []\n",
    "for temperature in np.arange(600,1000,20):\n",
    "    defect_system = DefectSystem([v_Li, v_F], dos, volume, temperature=temperature, spin_pol=1)\n",
    "    defect_system_data = defect_system.to_dict()\n",
    "    v_li_concentrations.append(defect_system_data['v_Li'])\n",
    "    v_f_concentrations.append(defect_system_data['v_F'])\n",
    "\n",
    "\n",
    "plt.plot(np.arange(600,1000,20),np.log10(v_f_concentrations), '-o')\n",
    "\n",
    "###\n",
    "\n"
   ]
  },
  {
   "cell_type": "code",
   "execution_count": 23,
   "metadata": {},
   "outputs": [
    {
     "name": "stderr",
     "output_type": "stream",
     "text": [
      "/mnt/a/materials_2/py-sc-fermi/py_sc_fermi/dos.py:94: RuntimeWarning: overflow encountered in exp\n",
      "  return dos / (1.0 + np.exp((e_fermi - edos)/kT))\n"
     ]
    },
    {
     "data": {
      "text/plain": [
       "Text(0, 0.5, 'defect concentration / cm^3')"
      ]
     },
     "execution_count": 23,
     "metadata": {},
     "output_type": "execute_result"
    },
    {
     "data": {
      "image/png": "[encoded data removed]",
      "text/plain": [
       "<Figure size 432x288 with 1 Axes>"
      ]
     },
     "metadata": {
      "needs_background": "light"
     },
     "output_type": "display_data"
    }
   ],
   "source": [
    "from py_sc_fermi.defect_charge_state import FrozenDefectChargeState\n",
    "\n",
    "dopants = np.logspace(6,12)\n",
    "\n",
    "v_li_concentrations = []\n",
    "v_f_concentrations = []\n",
    "for dopant_concentration in dopants:\n",
    "    dopant_charge_state = FrozenDefectChargeState(1,dopant_concentration/1e24 * defect_system.volume)\n",
    "    defect_system = DefectSystem([v_Li, v_F, DefectSpecies('dopant',-1,[dopant_charge_state])], dos, volume, temperature=700, spin_pol=1)\n",
    "    defect_system_data = defect_system.to_dict()\n",
    "    v_li_concentrations.append(defect_system_data['v_Li'])\n",
    "    v_f_concentrations.append(defect_system_data['v_F'])\n",
    "\n",
    "plt.yscale('log')\n",
    "plt.xscale('log')\n",
    "plt.plot(dopants,v_f_concentrations)\n",
    "\n",
    "plt.xlabel('dopant concentration / cm^3')\n",
    "plt.ylabel('defect concentration / cm^3')"
   ]
  },
  {
   "cell_type": "code",
   "execution_count": 24,
   "metadata": {},
   "outputs": [],
   "source": [
    "defect_system.write_inputs()"
   ]
  },
  {
   "cell_type": "code",
   "execution_count": null,
   "metadata": {},
   "outputs": [],
   "source": []
  }
 ],
 "metadata": {
  "kernelspec": {
   "display_name": "Python 3",
   "language": "python",
   "name": "python3"
  },
  "language_info": {
   "codemirror_mode": {
    "name": "ipython",
    "version": 3
   },
   "file_extension": ".py",
   "mimetype": "text/x-python",
   "name": "python",
   "nbconvert_exporter": "python",
   "pygments_lexer": "ipython3",
   "version": "3.8.2"
  }
 },
 "nbformat": 4,
 "nbformat_minor": 4
}
